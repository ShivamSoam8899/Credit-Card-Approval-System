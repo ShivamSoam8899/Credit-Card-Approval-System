{
  "nbformat": 4,
  "nbformat_minor": 0,
  "metadata": {
    "colab": {
      "provenance": []
    },
    "kernelspec": {
      "name": "python3",
      "display_name": "Python 3"
    },
    "language_info": {
      "name": "python"
    }
  },
  "cells": [
    {
      "cell_type": "markdown",
      "source": [
        "# **Introduction**\n",
        "\n",
        "*   Managing risk is a big deal for businesses everywhere, especially for banks. They need to make sure they handle risk well and keep it under control.\n",
        "*   This project aims to build a Machine Learning Model to assist banks in making informed decisions about credit card issuance. The model categorizes individuals into two groups: those likely to be responsible payers and those with higher risk potential. By doing so, this project empowers banks to enhance their decision-making process when extending credit cards.\n",
        "\n",
        "## **Problem Statement**\n",
        "\n",
        "\n",
        "\n",
        "*  Credit Applicant Prediction: Build a model to predict whether a credit card applicant is likely to be a \"Good\" or \"Bad\" customer.\n",
        "\n",
        "*   Incorporate Various Data: Use a range of applicant information like age, income, and credit history for accurate predictions\n",
        "\n",
        "*   Minimize Risk, Maximize Approval: Help in minimizing credit default risk and increasing the approval of trustworthy applicants.\n",
        "\n",
        "*   Improved Decision-Making: Provide a tool that aids in making smarter credit decisions efficiently.\n",
        "\n",
        "\n",
        ".\n",
        "\n",
        "\n",
        "\n",
        "\n",
        "\n",
        "\n",
        "\n",
        "\n",
        "\n",
        "\n"
      ],
      "metadata": {
        "id": "C9NJS00iuoXd"
      }
    },
    {
      "cell_type": "markdown",
      "source": [],
      "metadata": {
        "id": "O2OqjPh1un9-"
      }
    },
    {
      "cell_type": "code",
      "source": [
        "pip install pyspark"
      ],
      "metadata": {
        "id": "_vLwn23QSowi",
        "colab": {
          "base_uri": "https://localhost:8080/"
        },
        "outputId": "3669fea2-e3f7-4829-b373-0e0fb3bbae48"
      },
      "execution_count": null,
      "outputs": [
        {
          "output_type": "stream",
          "name": "stdout",
          "text": [
            "Collecting pyspark\n",
            "  Downloading pyspark-3.4.1.tar.gz (310.8 MB)\n",
            "\u001b[2K     \u001b[90m━━━━━━━━━━━━━━━━━━━━━━━━━━━━━━━━━━━━━━━\u001b[0m \u001b[32m310.8/310.8 MB\u001b[0m \u001b[31m2.7 MB/s\u001b[0m eta \u001b[36m0:00:00\u001b[0m\n",
            "\u001b[?25h  Preparing metadata (setup.py) ... \u001b[?25l\u001b[?25hdone\n",
            "Requirement already satisfied: py4j==0.10.9.7 in /usr/local/lib/python3.10/dist-packages (from pyspark) (0.10.9.7)\n",
            "Building wheels for collected packages: pyspark\n",
            "  Building wheel for pyspark (setup.py) ... \u001b[?25l\u001b[?25hdone\n",
            "  Created wheel for pyspark: filename=pyspark-3.4.1-py2.py3-none-any.whl size=311285387 sha256=0893e7f84127fd3c737501756d6ec046f66c55b07199fcc9796717ca36e61b35\n",
            "  Stored in directory: /root/.cache/pip/wheels/0d/77/a3/ff2f74cc9ab41f8f594dabf0579c2a7c6de920d584206e0834\n",
            "Successfully built pyspark\n",
            "Installing collected packages: pyspark\n",
            "Successfully installed pyspark-3.4.1\n"
          ]
        }
      ]
    },
    {
      "cell_type": "markdown",
      "source": [
        "**Importing necessary libraries**"
      ],
      "metadata": {
        "id": "OcOtu1IDZWsc"
      }
    },
    {
      "cell_type": "code",
      "source": [
        "from pyspark.sql import SparkSession\n",
        "spark = SparkSession.builder.appName(\"project\").getOrCreate()"
      ],
      "metadata": {
        "id": "vrdHuV0RtT99"
      },
      "execution_count": null,
      "outputs": []
    },
    {
      "cell_type": "code",
      "source": [
        "from pyspark.sql.functions import col, sum as spark_sum, round as spark_round, abs,when, expr,max\n",
        "from pyspark.sql.types import StringType\n",
        "from pyspark.sql import functions as F\n",
        "from pyspark.ml.feature import  VectorAssembler,StringIndexer,SQLTransformer\n",
        "from pyspark.ml import Pipeline\n",
        "from pyspark.ml.classification import LogisticRegression, DecisionTreeClassifier,RandomForestClassifier,LinearSVC,GBTClassifier\n",
        "from pyspark.ml.evaluation import BinaryClassificationEvaluator, MulticlassClassificationEvaluator\n",
        "from pyspark.ml.tuning import CrossValidator, ParamGridBuilder\n",
        "import numpy as np\n",
        "import pandas as pd\n",
        "import matplotlib.pyplot as plt\n"
      ],
      "metadata": {
        "id": "ro4PyCM4wBuu"
      },
      "execution_count": null,
      "outputs": []
    },
    {
      "cell_type": "markdown",
      "source": [
        "**DATA COLLECTION :**\n",
        "\n",
        "Obtain the relevant dataset containing information about credit card applicants and their attributes.\n",
        "\n",
        "Importing the datasets:"
      ],
      "metadata": {
        "id": "4NT_ATBTaFNu"
      }
    },
    {
      "cell_type": "markdown",
      "source": [
        "**APPLICATION_RECORD**.**CSV**"
      ],
      "metadata": {
        "id": "ggvq0xf-KXhh"
      }
    },
    {
      "cell_type": "code",
      "source": [
        "app_df = spark.read.csv(r\"/content/application_record.csv\", header=True, inferSchema=True)"
      ],
      "metadata": {
        "id": "0j1C9wNJtviW"
      },
      "execution_count": null,
      "outputs": []
    },
    {
      "cell_type": "code",
      "source": [
        "app_df.show()\n",
        "app_df.printSchema()"
      ],
      "metadata": {
        "colab": {
          "base_uri": "https://localhost:8080/"
        },
        "id": "0eg8ODUNt6TT",
        "outputId": "319ff88f-f03c-47fb-f70e-dac1807e8034"
      },
      "execution_count": null,
      "outputs": [
        {
          "output_type": "stream",
          "name": "stdout",
          "text": [
            "+-------+-----------+------------+---------------+------------+----------------+--------------------+--------------------+--------------------+-----------------+----------+-------------+----------+---------------+----------+----------+---------------+---------------+\n",
            "|     ID|CODE_GENDER|FLAG_OWN_CAR|FLAG_OWN_REALTY|CNT_CHILDREN|AMT_INCOME_TOTAL|    NAME_INCOME_TYPE| NAME_EDUCATION_TYPE|  NAME_FAMILY_STATUS|NAME_HOUSING_TYPE|DAYS_BIRTH|DAYS_EMPLOYED|FLAG_MOBIL|FLAG_WORK_PHONE|FLAG_PHONE|FLAG_EMAIL|OCCUPATION_TYPE|CNT_FAM_MEMBERS|\n",
            "+-------+-----------+------------+---------------+------------+----------------+--------------------+--------------------+--------------------+-----------------+----------+-------------+----------+---------------+----------+----------+---------------+---------------+\n",
            "|5008804|          M|           Y|              Y|           0|        427500.0|             Working|    Higher education|      Civil marriage| Rented apartment|    -12005|        -4542|         1|              1|         0|         0|           null|            2.0|\n",
            "|5008805|          M|           Y|              Y|           0|        427500.0|             Working|    Higher education|      Civil marriage| Rented apartment|    -12005|        -4542|         1|              1|         0|         0|           null|            2.0|\n",
            "|5008806|          M|           Y|              Y|           0|        112500.0|             Working|Secondary / secon...|             Married|House / apartment|    -21474|        -1134|         1|              0|         0|         0| Security staff|            2.0|\n",
            "|5008808|          F|           N|              Y|           0|        270000.0|Commercial associate|Secondary / secon...|Single / not married|House / apartment|    -19110|        -3051|         1|              0|         1|         1|    Sales staff|            1.0|\n",
            "|5008809|          F|           N|              Y|           0|        270000.0|Commercial associate|Secondary / secon...|Single / not married|House / apartment|    -19110|        -3051|         1|              0|         1|         1|    Sales staff|            1.0|\n",
            "|5008810|          F|           N|              Y|           0|        270000.0|Commercial associate|Secondary / secon...|Single / not married|House / apartment|    -19110|        -3051|         1|              0|         1|         1|    Sales staff|            1.0|\n",
            "|5008811|          F|           N|              Y|           0|        270000.0|Commercial associate|Secondary / secon...|Single / not married|House / apartment|    -19110|        -3051|         1|              0|         1|         1|    Sales staff|            1.0|\n",
            "|5008812|          F|           N|              Y|           0|        283500.0|           Pensioner|    Higher education|           Separated|House / apartment|    -22464|       365243|         1|              0|         0|         0|           null|            1.0|\n",
            "|5008813|          F|           N|              Y|           0|        283500.0|           Pensioner|    Higher education|           Separated|House / apartment|    -22464|       365243|         1|              0|         0|         0|           null|            1.0|\n",
            "|5008814|          F|           N|              Y|           0|        283500.0|           Pensioner|    Higher education|           Separated|House / apartment|    -22464|       365243|         1|              0|         0|         0|           null|            1.0|\n",
            "|5008815|          M|           Y|              Y|           0|        270000.0|             Working|    Higher education|             Married|House / apartment|    -16872|         -769|         1|              1|         1|         1|    Accountants|            2.0|\n",
            "|5112956|          M|           Y|              Y|           0|        270000.0|             Working|    Higher education|             Married|House / apartment|    -16872|         -769|         1|              1|         1|         1|    Accountants|            2.0|\n",
            "|6153651|          M|           Y|              Y|           0|        270000.0|             Working|    Higher education|             Married|House / apartment|    -16872|         -769|         1|              1|         1|         1|    Accountants|            2.0|\n",
            "|5008819|          M|           Y|              Y|           0|        135000.0|Commercial associate|Secondary / secon...|             Married|House / apartment|    -17778|        -1194|         1|              0|         0|         0|       Laborers|            2.0|\n",
            "|5008820|          M|           Y|              Y|           0|        135000.0|Commercial associate|Secondary / secon...|             Married|House / apartment|    -17778|        -1194|         1|              0|         0|         0|       Laborers|            2.0|\n",
            "|5008821|          M|           Y|              Y|           0|        135000.0|Commercial associate|Secondary / secon...|             Married|House / apartment|    -17778|        -1194|         1|              0|         0|         0|       Laborers|            2.0|\n",
            "|5008822|          M|           Y|              Y|           0|        135000.0|Commercial associate|Secondary / secon...|             Married|House / apartment|    -17778|        -1194|         1|              0|         0|         0|       Laborers|            2.0|\n",
            "|5008823|          M|           Y|              Y|           0|        135000.0|Commercial associate|Secondary / secon...|             Married|House / apartment|    -17778|        -1194|         1|              0|         0|         0|       Laborers|            2.0|\n",
            "|5008824|          M|           Y|              Y|           0|        135000.0|Commercial associate|Secondary / secon...|             Married|House / apartment|    -17778|        -1194|         1|              0|         0|         0|       Laborers|            2.0|\n",
            "|5008825|          F|           Y|              N|           0|        130500.0|             Working|   Incomplete higher|             Married|House / apartment|    -10669|        -1103|         1|              0|         0|         0|    Accountants|            2.0|\n",
            "+-------+-----------+------------+---------------+------------+----------------+--------------------+--------------------+--------------------+-----------------+----------+-------------+----------+---------------+----------+----------+---------------+---------------+\n",
            "only showing top 20 rows\n",
            "\n",
            "root\n",
            " |-- ID: integer (nullable = true)\n",
            " |-- CODE_GENDER: string (nullable = true)\n",
            " |-- FLAG_OWN_CAR: string (nullable = true)\n",
            " |-- FLAG_OWN_REALTY: string (nullable = true)\n",
            " |-- CNT_CHILDREN: integer (nullable = true)\n",
            " |-- AMT_INCOME_TOTAL: double (nullable = true)\n",
            " |-- NAME_INCOME_TYPE: string (nullable = true)\n",
            " |-- NAME_EDUCATION_TYPE: string (nullable = true)\n",
            " |-- NAME_FAMILY_STATUS: string (nullable = true)\n",
            " |-- NAME_HOUSING_TYPE: string (nullable = true)\n",
            " |-- DAYS_BIRTH: integer (nullable = true)\n",
            " |-- DAYS_EMPLOYED: integer (nullable = true)\n",
            " |-- FLAG_MOBIL: integer (nullable = true)\n",
            " |-- FLAG_WORK_PHONE: integer (nullable = true)\n",
            " |-- FLAG_PHONE: integer (nullable = true)\n",
            " |-- FLAG_EMAIL: integer (nullable = true)\n",
            " |-- OCCUPATION_TYPE: string (nullable = true)\n",
            " |-- CNT_FAM_MEMBERS: double (nullable = true)\n",
            "\n"
          ]
        }
      ]
    },
    {
      "cell_type": "markdown",
      "source": [
        "**CREDIT_RECORD**.**CSV**"
      ],
      "metadata": {
        "id": "KU6e8EUuK5qI"
      }
    },
    {
      "cell_type": "code",
      "source": [
        "cred_df = spark.read.csv(r\"/content/credit_record.csv\", header=True, inferSchema=True)"
      ],
      "metadata": {
        "id": "abiTjZK1Ju3g"
      },
      "execution_count": null,
      "outputs": []
    },
    {
      "cell_type": "code",
      "source": [
        "cred_df.show()\n",
        "cred_df.printSchema()"
      ],
      "metadata": {
        "colab": {
          "base_uri": "https://localhost:8080/"
        },
        "id": "K72pH0qlLf87",
        "outputId": "c29aafce-863b-4ff0-a3fb-02a88041e5a4"
      },
      "execution_count": null,
      "outputs": [
        {
          "output_type": "stream",
          "name": "stdout",
          "text": [
            "+-------+--------------+------+\n",
            "|     ID|MONTHS_BALANCE|STATUS|\n",
            "+-------+--------------+------+\n",
            "|5001711|             0|     X|\n",
            "|5001711|            -1|     0|\n",
            "|5001711|            -2|     0|\n",
            "|5001711|            -3|     0|\n",
            "|5001712|             0|     C|\n",
            "|5001712|            -1|     C|\n",
            "|5001712|            -2|     C|\n",
            "|5001712|            -3|     C|\n",
            "|5001712|            -4|     C|\n",
            "|5001712|            -5|     C|\n",
            "|5001712|            -6|     C|\n",
            "|5001712|            -7|     C|\n",
            "|5001712|            -8|     C|\n",
            "|5001712|            -9|     0|\n",
            "|5001712|           -10|     0|\n",
            "|5001712|           -11|     0|\n",
            "|5001712|           -12|     0|\n",
            "|5001712|           -13|     0|\n",
            "|5001712|           -14|     0|\n",
            "|5001712|           -15|     0|\n",
            "+-------+--------------+------+\n",
            "only showing top 20 rows\n",
            "\n",
            "root\n",
            " |-- ID: integer (nullable = true)\n",
            " |-- MONTHS_BALANCE: integer (nullable = true)\n",
            " |-- STATUS: string (nullable = true)\n",
            "\n"
          ]
        }
      ]
    },
    {
      "cell_type": "markdown",
      "source": [
        "**Data Exploration and Preprocessing:**\n"
      ],
      "metadata": {
        "id": "ilZM9VDPdNSW"
      }
    },
    {
      "cell_type": "code",
      "source": [
        "#Checking and displaying the count of null values for each column\n",
        "\n",
        "null_counts = app_df.select([spark_sum(col(column).isNull().cast(\"int\")).alias(column) for column in app_df.columns])\n",
        "null_counts.show()"
      ],
      "metadata": {
        "colab": {
          "base_uri": "https://localhost:8080/"
        },
        "id": "8ouSfukhuICL",
        "outputId": "a7c48c46-b33d-476c-8d17-0e6a85bdcc33"
      },
      "execution_count": null,
      "outputs": [
        {
          "output_type": "stream",
          "name": "stdout",
          "text": [
            "+---+-----------+------------+---------------+------------+----------------+----------------+-------------------+------------------+-----------------+----------+-------------+----------+---------------+----------+----------+---------------+---------------+\n",
            "| ID|CODE_GENDER|FLAG_OWN_CAR|FLAG_OWN_REALTY|CNT_CHILDREN|AMT_INCOME_TOTAL|NAME_INCOME_TYPE|NAME_EDUCATION_TYPE|NAME_FAMILY_STATUS|NAME_HOUSING_TYPE|DAYS_BIRTH|DAYS_EMPLOYED|FLAG_MOBIL|FLAG_WORK_PHONE|FLAG_PHONE|FLAG_EMAIL|OCCUPATION_TYPE|CNT_FAM_MEMBERS|\n",
            "+---+-----------+------------+---------------+------------+----------------+----------------+-------------------+------------------+-----------------+----------+-------------+----------+---------------+----------+----------+---------------+---------------+\n",
            "|  0|          0|           0|              0|           0|               0|               0|                  0|                 0|                0|         0|            0|         0|              0|         0|         0|         134203|              0|\n",
            "+---+-----------+------------+---------------+------------+----------------+----------------+-------------------+------------------+-----------------+----------+-------------+----------+---------------+----------+----------+---------------+---------------+\n",
            "\n"
          ]
        }
      ]
    },
    {
      "cell_type": "code",
      "source": [
        "# Convert the missing_counts result to a dictionary for plotting\n",
        "missing_dict = null_counts.first().asDict()\n",
        "\n",
        "# Create a bar plot to visualize missing values\n",
        "plt.figure(figsize=(10, 6))\n",
        "plt.bar(missing_dict.keys(), missing_dict.values())\n",
        "plt.title(\"Missing Values by Column\")\n",
        "plt.xlabel(\"Columns\")\n",
        "plt.ylabel(\"Count of Missing Values\")\n",
        "plt.xticks(rotation=45, ha=\"right\")\n",
        "plt.tight_layout()\n",
        "\n",
        "plt.show()"
      ],
      "metadata": {
        "colab": {
          "base_uri": "https://localhost:8080/",
          "height": 607
        },
        "id": "GHcHYit6FpPO",
        "outputId": "523bdd01-b3cb-4444-fbf6-ad54654e4d79"
      },
      "execution_count": null,
      "outputs": [
        {
          "output_type": "display_data",
          "data": {
            "text/plain": [
              "<Figure size 1000x600 with 1 Axes>"
            ],
            "image/png": "[encoded data removed]"
          },
          "metadata": {}
        }
      ]
    },
    {
      "cell_type": "code",
      "source": [
        "# Drop the 'OCCUPATION_TYPE' column\n",
        "app_df = app_df.drop('OCCUPATION_TYPE')"
      ],
      "metadata": {
        "id": "6uRCRzooxXBX"
      },
      "execution_count": null,
      "outputs": []
    },
    {
      "cell_type": "code",
      "source": [
        "# There are multiple enteries for the same customer , so we are removing the duplicate ID's and keeping the last entry.\n",
        "app_df = app_df.dropDuplicates(['ID'])"
      ],
      "metadata": {
        "id": "W4AjFdjgyez-"
      },
      "execution_count": null,
      "outputs": []
    },
    {
      "cell_type": "code",
      "source": [
        "# Transform 'DAYS_BIRTH' column to 'AGE_YEARS' and round the values\n",
        "app_df = app_df.withColumn('DAYS_BIRTH', spark_round(col('DAYS_BIRTH') / -365, 0)).withColumnRenamed('DAYS_BIRTH', 'AGE_YEARS')\n"
      ],
      "metadata": {
        "id": "so9bYYk4yrAZ"
      },
      "execution_count": null,
      "outputs": []
    },
    {
      "cell_type": "code",
      "source": [
        "# Replace values in 'DAYS_EMPLOYED' column where value > 0 with 0\n",
        "app_df = app_df.withColumn('DAYS_EMPLOYED', when(col('DAYS_EMPLOYED') > 0, 0).otherwise(col('DAYS_EMPLOYED')))\n",
        "\n",
        "# Perform transformations on 'DAYS_EMPLOYED' and rename it to 'YEARS_EMPLOYED'\n",
        "app_df = app_df.withColumn('DAYS_EMPLOYED', abs(spark_round(col('DAYS_EMPLOYED') / -365.0))).withColumnRenamed('DAYS_EMPLOYED', 'YEARS_EMPLOYED')\n"
      ],
      "metadata": {
        "id": "EoL9HUItziWl"
      },
      "execution_count": null,
      "outputs": []
    },
    {
      "cell_type": "code",
      "source": [
        "# List of columns to drop\n",
        "columns_to_drop = ['FLAG_MOBIL', 'FLAG_WORK_PHONE', 'FLAG_PHONE', 'FLAG_EMAIL']\n",
        "\n",
        "# Select columns to keep\n",
        "columns_to_keep = [col for col in app_df.columns if col not in columns_to_drop]\n",
        "app_df = app_df.select(*columns_to_keep)"
      ],
      "metadata": {
        "id": "ofChWtOv3n5z"
      },
      "execution_count": null,
      "outputs": []
    },
    {
      "cell_type": "code",
      "source": [
        "app_df.show(5)"
      ],
      "metadata": {
        "colab": {
          "base_uri": "https://localhost:8080/"
        },
        "id": "uZr-oBtW6ySd",
        "outputId": "f8b71cd7-116d-4cf0-dee6-d3df56857486"
      },
      "execution_count": null,
      "outputs": [
        {
          "output_type": "stream",
          "name": "stdout",
          "text": [
            "+-------+-----------+------------+---------------+------------+----------------+--------------------+--------------------+--------------------+-----------------+---------+--------------+---------------+\n",
            "|     ID|CODE_GENDER|FLAG_OWN_CAR|FLAG_OWN_REALTY|CNT_CHILDREN|AMT_INCOME_TOTAL|    NAME_INCOME_TYPE| NAME_EDUCATION_TYPE|  NAME_FAMILY_STATUS|NAME_HOUSING_TYPE|AGE_YEARS|YEARS_EMPLOYED|CNT_FAM_MEMBERS|\n",
            "+-------+-----------+------------+---------------+------------+----------------+--------------------+--------------------+--------------------+-----------------+---------+--------------+---------------+\n",
            "|5008806|          M|           Y|              Y|           0|        112500.0|             Working|Secondary / secon...|             Married|House / apartment|     59.0|           3.0|            2.0|\n",
            "|5008808|          F|           N|              Y|           0|        270000.0|Commercial associate|Secondary / secon...|Single / not married|House / apartment|     52.0|           8.0|            1.0|\n",
            "|5008809|          F|           N|              Y|           0|        270000.0|Commercial associate|Secondary / secon...|Single / not married|House / apartment|     52.0|           8.0|            1.0|\n",
            "|5008812|          F|           N|              Y|           0|        283500.0|           Pensioner|    Higher education|           Separated|House / apartment|     62.0|           0.0|            1.0|\n",
            "|5008813|          F|           N|              Y|           0|        283500.0|           Pensioner|    Higher education|           Separated|House / apartment|     62.0|           0.0|            1.0|\n",
            "+-------+-----------+------------+---------------+------------+----------------+--------------------+--------------------+--------------------+-----------------+---------+--------------+---------------+\n",
            "only showing top 5 rows\n",
            "\n"
          ]
        }
      ]
    },
    {
      "cell_type": "code",
      "source": [
        "# Columns to count outliers for\n",
        "columns_to_count_outliers = ['AMT_INCOME_TOTAL', 'CNT_CHILDREN', 'AGE_YEARS', 'YEARS_EMPLOYED', 'CNT_FAM_MEMBERS']\n",
        "\n",
        "# Define the IQR calculation and outlier checking using built-in functions\n",
        "def calculate_outlier_stats(column):\n",
        "    Q1 = app_df.approxQuantile(column, [0.25], 0)[0]\n",
        "    Q3 = app_df.approxQuantile(column, [0.75], 0)[0]\n",
        "    IQR = Q3 - Q1\n",
        "    lower_bound = Q1 - 1.5 * IQR\n",
        "    upper_bound = Q3 + 1.5 * IQR\n",
        "    outliers = app_df.filter((col(column) < lower_bound) | (col(column) > upper_bound)).count()\n",
        "    return (Q1, Q3, IQR, lower_bound, upper_bound, outliers)\n",
        "\n",
        "# Calculate outlier statistics for each column\n",
        "outliers_stats = [(column, *calculate_outlier_stats(column)) for column in columns_to_count_outliers]\n",
        "\n",
        "# Create a Spark DataFrame from the collected statistics\n",
        "outliers_df = spark.createDataFrame(outliers_stats, ['Column', 'Q1', 'Q3', 'IQR', 'Lower Bound', 'Upper Bound', 'Outliers Count'])\n",
        "\n",
        "# Show the resulting DataFrame\n",
        "outliers_df.show()"
      ],
      "metadata": {
        "colab": {
          "base_uri": "https://localhost:8080/"
        },
        "id": "RaAiR4mb6yxf",
        "outputId": "a5e0146b-91e1-450e-ddbd-21f18de4aa77"
      },
      "execution_count": null,
      "outputs": [
        {
          "output_type": "stream",
          "name": "stdout",
          "text": [
            "+----------------+--------+--------+--------+-----------+-----------+--------------+\n",
            "|          Column|      Q1|      Q3|     IQR|Lower Bound|Upper Bound|Outliers Count|\n",
            "+----------------+--------+--------+--------+-----------+-----------+--------------+\n",
            "|AMT_INCOME_TOTAL|121500.0|225000.0|103500.0|   -33750.0|   380250.0|         19106|\n",
            "|    CNT_CHILDREN|     0.0|     1.0|     1.0|       -1.5|        2.5|          6074|\n",
            "|       AGE_YEARS|    34.0|    53.0|    19.0|        5.5|       81.5|             0|\n",
            "|  YEARS_EMPLOYED|     1.0|     9.0|     8.0|      -11.0|       21.0|         17140|\n",
            "| CNT_FAM_MEMBERS|     2.0|     3.0|     1.0|        0.5|        4.5|          5689|\n",
            "+----------------+--------+--------+--------+-----------+-----------+--------------+\n",
            "\n"
          ]
        }
      ]
    },
    {
      "cell_type": "markdown",
      "source": [
        "**Outlier Visualization:**"
      ],
      "metadata": {
        "id": "PwtSp3XTftN7"
      }
    },
    {
      "cell_type": "code",
      "source": [
        "# Collect data for the specified columns\n",
        "columns_to_plot = ['CNT_CHILDREN', 'AMT_INCOME_TOTAL', 'AGE_YEARS', 'YEARS_EMPLOYED', 'CNT_FAM_MEMBERS']\n",
        "data_to_plot = [app_df.select(column).rdd.flatMap(lambda x: x).collect() for column in columns_to_plot]\n",
        "\n",
        "# Create subplots for each box plot\n",
        "fig, axes = plt.subplots(nrows=len(columns_to_plot), figsize=(10, 6 * len(columns_to_plot)))\n",
        "\n",
        "# Create box plots for each column\n",
        "for ax, data, column in zip(axes, data_to_plot, columns_to_plot):\n",
        "    ax.boxplot(data, vert=False)\n",
        "    ax.set_xlabel(column)\n",
        "    ax.set_ylabel('Value')\n",
        "    ax.set_title(f'Box Plot for {column}')\n",
        "\n",
        "# Adjust layout and display plots\n",
        "plt.tight_layout()\n",
        "plt.show()"
      ],
      "metadata": {
        "colab": {
          "base_uri": "https://localhost:8080/",
          "height": 1000
        },
        "id": "-q-zp7cU72qB",
        "outputId": "928d1f33-4fd7-4cf1-e4eb-2a9d06e17895"
      },
      "execution_count": null,
      "outputs": [
        {
          "output_type": "display_data",
          "data": {
            "text/plain": [
              "<Figure size 1000x3000 with 5 Axes>"
            ],
            "image/png": "[encoded data removed]"
          },
          "metadata": {}
        }
      ]
    },
    {
      "cell_type": "code",
      "source": [
        "# Calculate quantiles for the 'CNT_CHILDREN' column\n",
        "high_bound_expr = expr('percentile_approx(CNT_CHILDREN, 0.999)').alias('high_bound')\n",
        "low_bound_expr = expr('percentile_approx(CNT_CHILDREN, 0.001)').alias('low_bound')\n",
        "\n",
        "# Calculate the bounds for filtering\n",
        "bounds = app_df.select(high_bound_expr, low_bound_expr).first()\n",
        "high_bound = bounds.high_bound\n",
        "low_bound = bounds.low_bound\n",
        "\n",
        "# Filter the DataFrame based on the calculated bounds\n",
        "app_df = app_df.filter((col('CNT_CHILDREN') >= low_bound) & (col('CNT_CHILDREN') <= high_bound))\n"
      ],
      "metadata": {
        "id": "fS5VDLftCeoq"
      },
      "execution_count": null,
      "outputs": []
    },
    {
      "cell_type": "code",
      "source": [
        "# Calculate quantiles for the 'AMT_INCOME_TOTAL' column\n",
        "high_bound_expr = expr('percentile_approx(AMT_INCOME_TOTAL, 0.999)').alias('high_bound')\n",
        "low_bound_expr = expr('percentile_approx(AMT_INCOME_TOTAL, 0.001)').alias('low_bound')\n",
        "\n",
        "# Calculate the bounds for filtering\n",
        "bounds = app_df.select(high_bound_expr, low_bound_expr).first()\n",
        "high_bound = bounds.high_bound\n",
        "low_bound = bounds.low_bound\n",
        "\n",
        "# Filter the DataFrame based on the calculated bounds\n",
        "app_df = app_df.filter((col('AMT_INCOME_TOTAL') >= low_bound) & (col('AMT_INCOME_TOTAL') <= high_bound))\n"
      ],
      "metadata": {
        "id": "-CfYFJInEo4B"
      },
      "execution_count": null,
      "outputs": []
    },
    {
      "cell_type": "code",
      "source": [
        "# Calculate quantiles for the 'YEARS_EMPLOYED' column\n",
        "high_bound_expr = expr('percentile_approx(YEARS_EMPLOYED, 0.999)').alias('high_bound')\n",
        "low_bound_expr = expr('percentile_approx(YEARS_EMPLOYED, 0.001)').alias('low_bound')\n",
        "\n",
        "# Calculate the bounds for filtering\n",
        "bounds = app_df.select(high_bound_expr, low_bound_expr).first()\n",
        "high_bound = bounds.high_bound\n",
        "low_bound = bounds.low_bound\n",
        "\n",
        "# Filter the DataFrame based on the calculated bounds\n",
        "app_df = app_df.filter((col('YEARS_EMPLOYED') >= low_bound) & (col('YEARS_EMPLOYED') <= high_bound))"
      ],
      "metadata": {
        "id": "7bkCpg976y30"
      },
      "execution_count": null,
      "outputs": []
    },
    {
      "cell_type": "code",
      "source": [
        "# Calculate quantiles for the 'CNT_FAM_MEMBERS' column\n",
        "high_bound_expr = expr('percentile_approx(CNT_FAM_MEMBERS, 0.999)').alias('high_bound')\n",
        "low_bound_expr = expr('percentile_approx(CNT_FAM_MEMBERS, 0.001)').alias('low_bound')\n",
        "\n",
        "# Calculate the bounds for filtering\n",
        "bounds = app_df.select(high_bound_expr, low_bound_expr).first()\n",
        "high_bound = bounds.high_bound\n",
        "low_bound = bounds.low_bound\n",
        "\n",
        "# Filter the DataFrame based on the calculated bounds\n",
        "filtered_app_df = app_df.filter((col('CNT_FAM_MEMBERS') >= low_bound) & (col('CNT_FAM_MEMBERS') <= high_bound))"
      ],
      "metadata": {
        "id": "6_O09r86H01R"
      },
      "execution_count": null,
      "outputs": []
    },
    {
      "cell_type": "code",
      "source": [
        "# Get the number of rows (count) in the DataFrame\n",
        "num_rows = app_df.count()\n",
        "\n",
        "# Get the number of columns in the DataFrame\n",
        "num_columns = len(app_df.columns)\n",
        "\n",
        "# Display the number of rows and columns\n",
        "print(\"Number of Rows:\", num_rows)\n",
        "print(\"Number of Columns:\", num_columns)"
      ],
      "metadata": {
        "colab": {
          "base_uri": "https://localhost:8080/"
        },
        "id": "hdt0d29YI2q3",
        "outputId": "6354e6ef-e596-4fac-bbe0-62abf7443b43"
      },
      "execution_count": null,
      "outputs": [
        {
          "output_type": "stream",
          "name": "stdout",
          "text": [
            "Number of Rows: 437348\n",
            "Number of Columns: 13\n"
          ]
        }
      ]
    },
    {
      "cell_type": "markdown",
      "source": [
        "Now we will apply Data Exploration and Preprocessing steps to other dataset i.e, Credit Record."
      ],
      "metadata": {
        "id": "feAO1YDMgH4y"
      }
    },
    {
      "cell_type": "code",
      "source": [
        "# Replace values in the 'STATUS' column\n",
        "# We need to replace our status value by 0,1 . 0 will indicate that the customer has a good credit status and\n",
        "# 1 indicate that the customer has past due so it will not be consider as a good customer\n",
        "\n",
        "cred_df = cred_df.withColumn('STATUS', when(col('STATUS').isin('C', 'X'), 0).otherwise(col('STATUS')))\n",
        "cred_df = cred_df.withColumn('STATUS', when(col('STATUS').isin('2', '3', '4', '5'), 1).otherwise(col('STATUS')))"
      ],
      "metadata": {
        "id": "F8DqSwVvLl78"
      },
      "execution_count": null,
      "outputs": []
    },
    {
      "cell_type": "code",
      "source": [
        "# Cast the 'STATUS' column to integer data type\n",
        "cred_df = cred_df.withColumn(\"STATUS\", col(\"STATUS\").cast(\"int\"))"
      ],
      "metadata": {
        "id": "EiZi1VZhMSZr"
      },
      "execution_count": null,
      "outputs": []
    },
    {
      "cell_type": "code",
      "source": [
        "# Calculate the percentage distribution of unique values in the 'STATUS' column\n",
        "status_distribution = cred_df.groupBy(\"STATUS\").count()\n",
        "total_records = cred_df.count()\n",
        "status_distribution = status_distribution.withColumn(\"Percentage\", col(\"count\") / total_records * 100)\n",
        "\n",
        "# Show the percentage distribution\n",
        "status_distribution.show()"
      ],
      "metadata": {
        "colab": {
          "base_uri": "https://localhost:8080/"
        },
        "id": "nXEMKxVHMaiy",
        "outputId": "50a1e168-1eb3-4a79-dca4-13fe2f3386f5"
      },
      "execution_count": null,
      "outputs": [
        {
          "output_type": "stream",
          "name": "stdout",
          "text": [
            "+------+-------+------------------+\n",
            "|STATUS|  count|        Percentage|\n",
            "+------+-------+------------------+\n",
            "|     1|  14194|1.3536466156450422|\n",
            "|     0|1034381| 98.64635338435495|\n",
            "+------+-------+------------------+\n",
            "\n"
          ]
        }
      ]
    },
    {
      "cell_type": "code",
      "source": [
        "cred_df.show()"
      ],
      "metadata": {
        "colab": {
          "base_uri": "https://localhost:8080/"
        },
        "id": "wckYscV-VtOg",
        "outputId": "2f2a14df-496d-4db6-f86c-72c27d971732"
      },
      "execution_count": null,
      "outputs": [
        {
          "output_type": "stream",
          "name": "stdout",
          "text": [
            "+-------+--------------+------+\n",
            "|     ID|MONTHS_BALANCE|STATUS|\n",
            "+-------+--------------+------+\n",
            "|5001711|             0|     0|\n",
            "|5001711|            -1|     0|\n",
            "|5001711|            -2|     0|\n",
            "|5001711|            -3|     0|\n",
            "|5001712|             0|     0|\n",
            "|5001712|            -1|     0|\n",
            "|5001712|            -2|     0|\n",
            "|5001712|            -3|     0|\n",
            "|5001712|            -4|     0|\n",
            "|5001712|            -5|     0|\n",
            "|5001712|            -6|     0|\n",
            "|5001712|            -7|     0|\n",
            "|5001712|            -8|     0|\n",
            "|5001712|            -9|     0|\n",
            "|5001712|           -10|     0|\n",
            "|5001712|           -11|     0|\n",
            "|5001712|           -12|     0|\n",
            "|5001712|           -13|     0|\n",
            "|5001712|           -14|     0|\n",
            "|5001712|           -15|     0|\n",
            "+-------+--------------+------+\n",
            "only showing top 20 rows\n",
            "\n"
          ]
        }
      ]
    },
    {
      "cell_type": "code",
      "source": [
        "# Calculate the count of each STATUS value for each ID\n",
        "status_counts = cred_df.groupBy(\"ID\", \"STATUS\").count()\n",
        "\n",
        "# Find the majority STATUS value for each ID\n",
        "majority_status = status_counts.groupBy(\"ID\").agg({\"count\": \"max\"})\n",
        "majority_status = majority_status.withColumnRenamed(\"max(count)\", \"max_count\")\n",
        "\n",
        "# Join the majority_status DataFrame with the original cred_df\n",
        "cred_df = cred_df.join(majority_status, on=\"ID\")\n",
        "\n",
        "# Create a new column \"NEW_STATUS\" based on the majority value\n",
        "cred_df = cred_df.withColumn(\"NEW_STATUS\", when(col(\"STATUS\") == 0, 0).otherwise(1))\n",
        "cred_df.show()\n",
        "\n",
        "cred_df = cred_df.drop(\"MONTHS_BALANCE\",\"STATUS\",\"max_count\")\n",
        "cred_df =cred_df.dropDuplicates()\n",
        "cred_df = cred_df.withColumnRenamed(\"NEW_STATUS\", \"STATUS\")\n",
        "\n",
        "# Show the resulting DataFrame with the STATUS column\n",
        "cred_df.show()"
      ],
      "metadata": {
        "colab": {
          "base_uri": "https://localhost:8080/"
        },
        "id": "kXWVhmqqVNEy",
        "outputId": "418c3415-c146-4127-85ad-7c1227d4a75b"
      },
      "execution_count": null,
      "outputs": [
        {
          "output_type": "stream",
          "name": "stdout",
          "text": [
            "+-------+--------------+------+---------+----------+\n",
            "|     ID|MONTHS_BALANCE|STATUS|max_count|NEW_STATUS|\n",
            "+-------+--------------+------+---------+----------+\n",
            "|5001711|             0|     0|        4|         0|\n",
            "|5001711|            -1|     0|        4|         0|\n",
            "|5001711|            -2|     0|        4|         0|\n",
            "|5001711|            -3|     0|        4|         0|\n",
            "|5001712|             0|     0|       19|         0|\n",
            "|5001712|            -1|     0|       19|         0|\n",
            "|5001712|            -2|     0|       19|         0|\n",
            "|5001712|            -3|     0|       19|         0|\n",
            "|5001712|            -4|     0|       19|         0|\n",
            "|5001712|            -5|     0|       19|         0|\n",
            "|5001712|            -6|     0|       19|         0|\n",
            "|5001712|            -7|     0|       19|         0|\n",
            "|5001712|            -8|     0|       19|         0|\n",
            "|5001712|            -9|     0|       19|         0|\n",
            "|5001712|           -10|     0|       19|         0|\n",
            "|5001712|           -11|     0|       19|         0|\n",
            "|5001712|           -12|     0|       19|         0|\n",
            "|5001712|           -13|     0|       19|         0|\n",
            "|5001712|           -14|     0|       19|         0|\n",
            "|5001712|           -15|     0|       19|         0|\n",
            "+-------+--------------+------+---------+----------+\n",
            "only showing top 20 rows\n",
            "\n",
            "+-------+------+\n",
            "|     ID|STATUS|\n",
            "+-------+------+\n",
            "|5002116|     0|\n",
            "|5002138|     0|\n",
            "|5002342|     0|\n",
            "|5002769|     0|\n",
            "|5003210|     0|\n",
            "|5003224|     0|\n",
            "|5003274|     0|\n",
            "|5003886|     0|\n",
            "|5004015|     1|\n",
            "|5004128|     0|\n",
            "|5004311|     0|\n",
            "|5004505|     0|\n",
            "|5004643|     0|\n",
            "|5004923|     1|\n",
            "|5004938|     0|\n",
            "|5004963|     0|\n",
            "|5005140|     0|\n",
            "|5005412|     0|\n",
            "|5005728|     1|\n",
            "|5008977|     0|\n",
            "+-------+------+\n",
            "only showing top 20 rows\n",
            "\n"
          ]
        }
      ]
    },
    {
      "cell_type": "code",
      "source": [
        "# Calculate the percentage distribution of unique values in the 'MAX_STATUS' column\n",
        "status_distribution = cred_df.groupBy(\"STATUS\").count()\n",
        "total_records = cred_df.count()\n",
        "status_distribution = status_distribution.withColumn(\"Percentage\", col(\"count\") / total_records * 100)\n",
        "\n",
        "# Show the percentage distribution\n",
        "status_distribution.show()\n"
      ],
      "metadata": {
        "colab": {
          "base_uri": "https://localhost:8080/"
        },
        "id": "IlcvCcuRNaBC",
        "outputId": "42ab901b-8223-4511-c387-40fe207eea1a"
      },
      "execution_count": null,
      "outputs": [
        {
          "output_type": "stream",
          "name": "stdout",
          "text": [
            "+------+-----+------------------+\n",
            "|STATUS|count|        Percentage|\n",
            "+------+-----+------------------+\n",
            "|     1| 5350|10.421942572174387|\n",
            "|     0|45984| 89.57805742782561|\n",
            "+------+-----+------------------+\n",
            "\n"
          ]
        }
      ]
    },
    {
      "cell_type": "code",
      "source": [
        "cred_df = cred_df.dropDuplicates()"
      ],
      "metadata": {
        "id": "75UIpSLISMXv"
      },
      "execution_count": null,
      "outputs": []
    },
    {
      "cell_type": "code",
      "source": [
        "# Get the number of rows (count) in the DataFrame\n",
        "num_rows = cred_df.count()\n",
        "\n",
        "# Get the number of columns in the DataFrame\n",
        "num_columns = len(cred_df.columns)\n",
        "\n",
        "# Display the number of rows and columns\n",
        "print(\"Number of Rows:\", num_rows)\n",
        "print(\"Number of Columns:\", num_columns)"
      ],
      "metadata": {
        "colab": {
          "base_uri": "https://localhost:8080/"
        },
        "id": "hhrIjOIfNcsp",
        "outputId": "f9dbb963-d40f-4559-ad46-c98cfff80695"
      },
      "execution_count": null,
      "outputs": [
        {
          "output_type": "stream",
          "name": "stdout",
          "text": [
            "Number of Rows: 51334\n",
            "Number of Columns: 2\n"
          ]
        }
      ]
    },
    {
      "cell_type": "code",
      "source": [
        "cred_df.show()"
      ],
      "metadata": {
        "colab": {
          "base_uri": "https://localhost:8080/"
        },
        "id": "g5iBaVEtTG92",
        "outputId": "a16bd4c5-f026-4e21-80b5-4457af5ddfe8"
      },
      "execution_count": null,
      "outputs": [
        {
          "output_type": "stream",
          "name": "stdout",
          "text": [
            "+-------+------+\n",
            "|     ID|STATUS|\n",
            "+-------+------+\n",
            "|5002116|     0|\n",
            "|5002138|     0|\n",
            "|5002342|     0|\n",
            "|5002769|     0|\n",
            "|5003210|     0|\n",
            "|5003224|     0|\n",
            "|5003274|     0|\n",
            "|5003886|     0|\n",
            "|5004015|     1|\n",
            "|5004128|     0|\n",
            "|5004311|     0|\n",
            "|5004505|     0|\n",
            "|5004643|     0|\n",
            "|5004923|     1|\n",
            "|5004938|     0|\n",
            "|5004963|     0|\n",
            "|5005140|     0|\n",
            "|5005412|     0|\n",
            "|5005728|     1|\n",
            "|5008977|     0|\n",
            "+-------+------+\n",
            "only showing top 20 rows\n",
            "\n"
          ]
        }
      ]
    },
    {
      "cell_type": "markdown",
      "source": [
        "# **Data Integration:**\n",
        "**MERGING** **DATAFRAME**"
      ],
      "metadata": {
        "id": "4kXYfangPDrw"
      }
    },
    {
      "cell_type": "code",
      "source": [
        "# Join the DataFrames based on the 'ID' column\n",
        "data = app_df.join(cred_df, on='ID', how='inner')"
      ],
      "metadata": {
        "id": "P0qxTfc7PCjJ"
      },
      "execution_count": null,
      "outputs": []
    },
    {
      "cell_type": "code",
      "source": [
        "# Drop duplicates from the merged DataFrame\n",
        "final_data = data.dropDuplicates()"
      ],
      "metadata": {
        "id": "cvP0wbcnP3k6"
      },
      "execution_count": null,
      "outputs": []
    },
    {
      "cell_type": "code",
      "source": [
        "# Drop the 'ID' column\n",
        "final_data = final_data.drop('ID')"
      ],
      "metadata": {
        "id": "_WNyIqURQOvW"
      },
      "execution_count": null,
      "outputs": []
    },
    {
      "cell_type": "code",
      "source": [
        "# Drop duplicates from the final_data DataFrame\n",
        "final_data = final_data.dropDuplicates()"
      ],
      "metadata": {
        "id": "TUWr9w8UQj-j"
      },
      "execution_count": null,
      "outputs": []
    },
    {
      "cell_type": "code",
      "source": [
        "# Get the number of rows (count) in the DataFrame\n",
        "num_rows = final_data.count()\n",
        "\n",
        "# Get the number of columns in the DataFrame\n",
        "num_columns = len(final_data.columns)\n",
        "\n",
        "# Display the number of rows and columns\n",
        "print(\"Number of Rows:\", num_rows)\n",
        "print(\"Number of Columns:\", num_columns)"
      ],
      "metadata": {
        "colab": {
          "base_uri": "https://localhost:8080/"
        },
        "id": "GEFyXC4OknLh",
        "outputId": "5b795dd1-528a-4512-880f-aa3b3e9810cb"
      },
      "execution_count": null,
      "outputs": [
        {
          "output_type": "stream",
          "name": "stdout",
          "text": [
            "Number of Rows: 11757\n",
            "Number of Columns: 13\n"
          ]
        }
      ]
    },
    {
      "cell_type": "code",
      "source": [
        "final_data.show(5)"
      ],
      "metadata": {
        "colab": {
          "base_uri": "https://localhost:8080/"
        },
        "id": "Ka0bGWzYm4or",
        "outputId": "276bcfa8-81ff-4ae0-f809-cca35df1e137"
      },
      "execution_count": null,
      "outputs": [
        {
          "output_type": "stream",
          "name": "stdout",
          "text": [
            "+-----------+------------+---------------+------------+----------------+--------------------+--------------------+--------------------+-----------------+---------+--------------+---------------+------+\n",
            "|CODE_GENDER|FLAG_OWN_CAR|FLAG_OWN_REALTY|CNT_CHILDREN|AMT_INCOME_TOTAL|    NAME_INCOME_TYPE| NAME_EDUCATION_TYPE|  NAME_FAMILY_STATUS|NAME_HOUSING_TYPE|AGE_YEARS|YEARS_EMPLOYED|CNT_FAM_MEMBERS|STATUS|\n",
            "+-----------+------------+---------------+------------+----------------+--------------------+--------------------+--------------------+-----------------+---------+--------------+---------------+------+\n",
            "|          M|           Y|              Y|           3|        270000.0|             Working|Secondary / secon...|             Married|House / apartment|     35.0|           3.0|            5.0|     0|\n",
            "|          F|           N|              N|           0|        135000.0|Commercial associate|Secondary / secon...|      Civil marriage|House / apartment|     43.0|           1.0|            2.0|     0|\n",
            "|          F|           N|              N|           0|        225000.0|             Working|Secondary / secon...|Single / not married|House / apartment|     53.0|          12.0|            1.0|     0|\n",
            "|          M|           N|              Y|           0|        157500.0|             Working|Secondary / secon...|Single / not married|House / apartment|     30.0|           1.0|            1.0|     0|\n",
            "|          F|           N|              Y|           1|        144000.0|             Working|    Higher education|      Civil marriage|House / apartment|     37.0|           0.0|            3.0|     0|\n",
            "+-----------+------------+---------------+------------+----------------+--------------------+--------------------+--------------------+-----------------+---------+--------------+---------------+------+\n",
            "only showing top 5 rows\n",
            "\n"
          ]
        }
      ]
    },
    {
      "cell_type": "markdown",
      "source": [
        "**Data Encoding**"
      ],
      "metadata": {
        "id": "IEbrxAXLiFj1"
      }
    },
    {
      "cell_type": "markdown",
      "source": [
        "**Ordinal Encoding of 'EDUCATION_TYPE' Column:**"
      ],
      "metadata": {
        "id": "lzgOMAAZiRU0"
      }
    },
    {
      "cell_type": "code",
      "source": [
        "# Define the ordinal categories and their corresponding codes\n",
        "ordinal_categories = {\n",
        "    'Lower secondary': 0,\n",
        "    'Secondary / secondary special': 1,\n",
        "    'Incomplete higher': 2,\n",
        "    'Higher education': 3,\n",
        "    'Academic degree': 4\n",
        "}\n",
        "\n",
        "# Convert 'EDUCATION_TYPE' column to ordinal codes based on the defined categories\n",
        "final_data = final_data.withColumn(\"NAME_EDUCATION_TYPE\",\n",
        "                                   expr(\"CASE \" +\n",
        "                                        \"WHEN NAME_EDUCATION_TYPE = 'Lower secondary' THEN 0 \" +\n",
        "                                        \"WHEN NAME_EDUCATION_TYPE = 'Secondary / secondary special' THEN 1 \" +\n",
        "                                        \"WHEN NAME_EDUCATION_TYPE = 'Incomplete higher' THEN 2 \" +\n",
        "                                        \"WHEN NAME_EDUCATION_TYPE = 'Higher education' THEN 3 \" +\n",
        "                                        \"WHEN NAME_EDUCATION_TYPE = 'Academic degree' THEN 4 \" +\n",
        "                                        \"ELSE NULL END\"))\n",
        "\n"
      ],
      "metadata": {
        "id": "ua_EFJl0Rkv6"
      },
      "execution_count": null,
      "outputs": []
    },
    {
      "cell_type": "markdown",
      "source": [
        "**Label Encoding using StringIndexer**"
      ],
      "metadata": {
        "id": "LAidskc-iVIS"
      }
    },
    {
      "cell_type": "code",
      "source": [
        "\n",
        "# List of columns to be label encoded\n",
        "columns = ['CODE_GENDER','FLAG_OWN_CAR','FLAG_OWN_REALTY','NAME_INCOME_TYPE', 'NAME_FAMILY_STATUS', 'NAME_HOUSING_TYPE']\n",
        "\n",
        "# Create a list of StringIndexer stages for binary columns\n",
        "indexer_stages = [StringIndexer(inputCol=col, outputCol=col + \"_INDEX\", handleInvalid=\"keep\")\n",
        "                  for col in columns]\n",
        "\n",
        "# Create a pipeline with the StringIndexer stages\n",
        "pipeline = Pipeline(stages=indexer_stages)\n",
        "\n",
        "# Fit and transform the pipeline on the DataFrame\n",
        "final_data = pipeline.fit(final_data).transform(final_data)\n",
        "\n"
      ],
      "metadata": {
        "id": "y_BWN1AKStby"
      },
      "execution_count": null,
      "outputs": []
    },
    {
      "cell_type": "code",
      "source": [
        "# List of columns to drop\n",
        "columns_to_drop = ['CODE_GENDER','FLAG_OWN_CAR','FLAG_OWN_REALTY','NAME_INCOME_TYPE', 'NAME_FAMILY_STATUS', 'NAME_HOUSING_TYPE']\n",
        "\n",
        "# Select columns to keep\n",
        "columns_to_keep = [col for col in final_data.columns if col not in columns_to_drop]\n",
        "final_data = final_data.select(*columns_to_keep)"
      ],
      "metadata": {
        "id": "WzdUzxtiXiuC"
      },
      "execution_count": null,
      "outputs": []
    },
    {
      "cell_type": "code",
      "source": [
        "final_data.show(5)"
      ],
      "metadata": {
        "colab": {
          "base_uri": "https://localhost:8080/"
        },
        "id": "8rs3V5LerzvY",
        "outputId": "bfe7fc8f-f360-4a53-d932-9a933ed0835f"
      },
      "execution_count": null,
      "outputs": [
        {
          "output_type": "stream",
          "name": "stdout",
          "text": [
            "+------------+----------------+-------------------+---------+--------------+---------------+------+-----------------+------------------+---------------------+----------------------+------------------------+-----------------------+\n",
            "|CNT_CHILDREN|AMT_INCOME_TOTAL|NAME_EDUCATION_TYPE|AGE_YEARS|YEARS_EMPLOYED|CNT_FAM_MEMBERS|STATUS|CODE_GENDER_INDEX|FLAG_OWN_CAR_INDEX|FLAG_OWN_REALTY_INDEX|NAME_INCOME_TYPE_INDEX|NAME_FAMILY_STATUS_INDEX|NAME_HOUSING_TYPE_INDEX|\n",
            "+------------+----------------+-------------------+---------+--------------+---------------+------+-----------------+------------------+---------------------+----------------------+------------------------+-----------------------+\n",
            "|           3|        270000.0|                  1|     35.0|           3.0|            5.0|     0|              1.0|               1.0|                  0.0|                   0.0|                     0.0|                    0.0|\n",
            "|           0|        135000.0|                  1|     43.0|           1.0|            2.0|     0|              0.0|               0.0|                  1.0|                   1.0|                     2.0|                    0.0|\n",
            "|           0|        225000.0|                  1|     53.0|          12.0|            1.0|     0|              0.0|               0.0|                  1.0|                   0.0|                     1.0|                    0.0|\n",
            "|           0|        157500.0|                  1|     30.0|           1.0|            1.0|     0|              1.0|               0.0|                  0.0|                   0.0|                     1.0|                    0.0|\n",
            "|           1|        144000.0|                  3|     37.0|           0.0|            3.0|     0|              0.0|               0.0|                  0.0|                   0.0|                     2.0|                    0.0|\n",
            "+------------+----------------+-------------------+---------+--------------+---------------+------+-----------------+------------------+---------------------+----------------------+------------------------+-----------------------+\n",
            "only showing top 5 rows\n",
            "\n"
          ]
        }
      ]
    },
    {
      "cell_type": "code",
      "source": [
        "# Dictionary to map old column names to new column names\n",
        "new_column_names = {\n",
        "    'CODE_GENDER_INDEX': 'GENDER',\n",
        "    'FLAG_OWN_CAR_INDEX': 'FLAG_OWN_CAR',\n",
        "    'FLAG_OWN_REALTY_INDEX': 'FLAG_OWN_REALTY',\n",
        "    'CNT_CHILDREN': 'CNT_CHILDREN',\n",
        "    'AMT_INCOME_TOTAL': 'INCOME',\n",
        "    'NAME_INCOME_TYPE_INDEX': 'INCOME_TYPE',\n",
        "    'NAME_EDUCATION_TYPE': 'EDUCATION_TYPE',\n",
        "    'NAME_FAMILY_STATUS_INDEX': 'MARRIAGE_STATUS',\n",
        "    'NAME_HOUSING_TYPE_INDEX': 'HOUSING_TYPE',\n",
        "    'AGE_YEARS': 'AGE',\n",
        "    'YEARS_EMPLOYED': 'YEARS_EMPLOYED',\n",
        "    'CNT_FAM_MEMBERS': 'CNT_FAM_MEMBERS',\n",
        "    'STATUS': 'STATUS'\n",
        "}\n",
        "\n",
        "# Rename columns in the final_data DataFrame using the dictionary\n",
        "for old_name, new_name in new_column_names.items():\n",
        "    final_data = final_data.withColumnRenamed(old_name, new_name)"
      ],
      "metadata": {
        "id": "xJVwcV0gQkCJ"
      },
      "execution_count": null,
      "outputs": []
    },
    {
      "cell_type": "code",
      "source": [
        "# List of columns to convert\n",
        "columns_to_convert = ['GENDER', 'AGE', 'YEARS_EMPLOYED','FLAG_OWN_CAR','FLAG_OWN_REALTY','INCOME_TYPE','MARRIAGE_STATUS','HOUSING_TYPE']\n",
        "\n",
        "# Convert specified columns from decimal to integer\n",
        "for column in columns_to_convert:\n",
        "    final_data = final_data.withColumn(column, F.col(column).cast(\"int\"))\n",
        "\n",
        "# Show the resulting DataFrame with converted columns\n",
        "final_data.show()"
      ],
      "metadata": {
        "colab": {
          "base_uri": "https://localhost:8080/"
        },
        "id": "OtQpRB2quASp",
        "outputId": "18254353-0f53-451f-e4af-99958260d86b"
      },
      "execution_count": null,
      "outputs": [
        {
          "output_type": "stream",
          "name": "stdout",
          "text": [
            "+------------+--------+--------------+---+--------------+---------------+------+------+------------+---------------+-----------+---------------+------------+\n",
            "|CNT_CHILDREN|  INCOME|EDUCATION_TYPE|AGE|YEARS_EMPLOYED|CNT_FAM_MEMBERS|STATUS|GENDER|FLAG_OWN_CAR|FLAG_OWN_REALTY|INCOME_TYPE|MARRIAGE_STATUS|HOUSING_TYPE|\n",
            "+------------+--------+--------------+---+--------------+---------------+------+------+------------+---------------+-----------+---------------+------------+\n",
            "|           3|270000.0|             1| 35|             3|            5.0|     0|     1|           1|              0|          0|              0|           0|\n",
            "|           0|135000.0|             1| 43|             1|            2.0|     0|     0|           0|              1|          1|              2|           0|\n",
            "|           0|225000.0|             1| 53|            12|            1.0|     0|     0|           0|              1|          0|              1|           0|\n",
            "|           0|157500.0|             1| 30|             1|            1.0|     0|     1|           0|              0|          0|              1|           0|\n",
            "|           1|144000.0|             3| 37|             0|            3.0|     0|     0|           0|              0|          0|              2|           0|\n",
            "|           2|157500.0|             3| 37|             6|            4.0|     0|     1|           1|              0|          1|              0|           0|\n",
            "|           0|135000.0|             1| 65|             0|            1.0|     0|     0|           0|              0|          2|              1|           0|\n",
            "|           0|112500.0|             1| 60|             0|            2.0|     1|     0|           0|              0|          2|              0|           0|\n",
            "|           0|135000.0|             1| 45|            21|            2.0|     0|     0|           0|              1|          1|              2|           0|\n",
            "|           0|265500.0|             3| 28|             1|            1.0|     0|     1|           1|              0|          0|              1|           0|\n",
            "|           0|157500.0|             1| 54|             0|            1.0|     1|     0|           0|              0|          2|              1|           0|\n",
            "|           0|157500.0|             1| 56|             4|            2.0|     0|     0|           0|              0|          0|              0|           0|\n",
            "|           2|270000.0|             3| 47|             2|            4.0|     0|     1|           1|              0|          1|              0|           0|\n",
            "|           0|225000.0|             3| 33|             1|            2.0|     1|     0|           1|              0|          1|              2|           0|\n",
            "|           2|180000.0|             1| 32|             0|            4.0|     0|     0|           0|              1|          0|              0|           0|\n",
            "|           0|112500.0|             1| 53|             0|            1.0|     0|     0|           0|              0|          2|              4|           0|\n",
            "|           2|225000.0|             1| 34|             5|            4.0|     0|     0|           0|              0|          1|              2|           0|\n",
            "|           0|222750.0|             3| 46|             4|            2.0|     0|     1|           1|              0|          0|              0|           0|\n",
            "|           0|270000.0|             1| 51|            16|            2.0|     1|     0|           1|              0|          1|              0|           0|\n",
            "|           1|135000.0|             1| 36|             7|            3.0|     0|     1|           0|              0|          0|              2|           0|\n",
            "+------------+--------+--------------+---+--------------+---------------+------+------+------------+---------------+-----------+---------------+------------+\n",
            "only showing top 20 rows\n",
            "\n"
          ]
        }
      ]
    },
    {
      "cell_type": "code",
      "source": [
        "final_data.printSchema()"
      ],
      "metadata": {
        "colab": {
          "base_uri": "https://localhost:8080/"
        },
        "id": "C_wZHRtosoar",
        "outputId": "6218fb0b-6da3-4a78-b1cc-887e7b5bd5a7"
      },
      "execution_count": null,
      "outputs": [
        {
          "output_type": "stream",
          "name": "stdout",
          "text": [
            "root\n",
            " |-- CNT_CHILDREN: integer (nullable = true)\n",
            " |-- INCOME: double (nullable = true)\n",
            " |-- EDUCATION_TYPE: integer (nullable = true)\n",
            " |-- AGE: integer (nullable = true)\n",
            " |-- YEARS_EMPLOYED: integer (nullable = true)\n",
            " |-- CNT_FAM_MEMBERS: double (nullable = true)\n",
            " |-- STATUS: integer (nullable = false)\n",
            " |-- GENDER: integer (nullable = true)\n",
            " |-- FLAG_OWN_CAR: integer (nullable = true)\n",
            " |-- FLAG_OWN_REALTY: integer (nullable = true)\n",
            " |-- INCOME_TYPE: integer (nullable = true)\n",
            " |-- MARRIAGE_STATUS: integer (nullable = true)\n",
            " |-- HOUSING_TYPE: integer (nullable = true)\n",
            "\n"
          ]
        }
      ]
    },
    {
      "cell_type": "markdown",
      "source": [
        "**SPLITING** **DATASET**"
      ],
      "metadata": {
        "id": "5gT2JAGGxSJg"
      }
    },
    {
      "cell_type": "code",
      "source": [
        "final_data1 = final_data"
      ],
      "metadata": {
        "id": "szW77LrIBEGK"
      },
      "execution_count": null,
      "outputs": []
    },
    {
      "cell_type": "code",
      "source": [
        "# Prepare features and labels\n",
        "feature_columns = [col for col in final_data1.columns if col != 'STATUS']\n",
        "assembler = VectorAssembler(inputCols=feature_columns, outputCol=\"features\")\n",
        "final_data1 = assembler.transform(final_data1)\n",
        "\n",
        "# Perform train-test split\n",
        "train_ratio = 0.8\n",
        "test_ratio = 1.0 - train_ratio\n",
        "train_data, test_data = final_data1.randomSplit([train_ratio, test_ratio], seed=22)\n",
        "\n",
        "# Define label column\n",
        "label_column = \"STATUS\"\n"
      ],
      "metadata": {
        "id": "GPR2iUtRw7qz"
      },
      "execution_count": null,
      "outputs": []
    },
    {
      "cell_type": "code",
      "source": [
        "final_data1.show(5)"
      ],
      "metadata": {
        "colab": {
          "base_uri": "https://localhost:8080/"
        },
        "id": "4ZsPTP2NA-yq",
        "outputId": "7656abb3-98f1-4dfc-a08a-9b3c44bfe32b"
      },
      "execution_count": null,
      "outputs": [
        {
          "output_type": "stream",
          "name": "stdout",
          "text": [
            "+------------+--------+--------------+---+--------------+---------------+------+------+------------+---------------+-----------+---------------+------------+--------------------+\n",
            "|CNT_CHILDREN|  INCOME|EDUCATION_TYPE|AGE|YEARS_EMPLOYED|CNT_FAM_MEMBERS|STATUS|GENDER|FLAG_OWN_CAR|FLAG_OWN_REALTY|INCOME_TYPE|MARRIAGE_STATUS|HOUSING_TYPE|            features|\n",
            "+------------+--------+--------------+---+--------------+---------------+------+------+------------+---------------+-----------+---------------+------------+--------------------+\n",
            "|           3|270000.0|             1| 35|             3|            5.0|     0|     1|           1|              0|          0|              0|           0|[3.0,270000.0,1.0...|\n",
            "|           0|135000.0|             1| 43|             1|            2.0|     0|     0|           0|              1|          1|              2|           0|[0.0,135000.0,1.0...|\n",
            "|           0|225000.0|             1| 53|            12|            1.0|     0|     0|           0|              1|          0|              1|           0|[0.0,225000.0,1.0...|\n",
            "|           0|157500.0|             1| 30|             1|            1.0|     0|     1|           0|              0|          0|              1|           0|[0.0,157500.0,1.0...|\n",
            "|           1|144000.0|             3| 37|             0|            3.0|     0|     0|           0|              0|          0|              2|           0|(12,[0,1,2,3,5,10...|\n",
            "+------------+--------+--------------+---+--------------+---------------+------+------+------------+---------------+-----------+---------------+------------+--------------------+\n",
            "only showing top 5 rows\n",
            "\n"
          ]
        }
      ]
    },
    {
      "cell_type": "markdown",
      "source": [
        "**LOGISTIC** **REGRESSION**"
      ],
      "metadata": {
        "id": "wt4kqGcYBxYz"
      }
    },
    {
      "cell_type": "code",
      "source": [
        "# Build a Logistic Regression model\n",
        "lr = LogisticRegression(featuresCol=\"features\", labelCol=label_column)\n",
        "\n",
        "# Create a pipeline with the logistic regression model\n",
        "pipeline = Pipeline(stages=[lr])\n",
        "\n",
        "# Train the model\n",
        "model = pipeline.fit(train_data)\n",
        "\n",
        "# Make predictions on the test set\n",
        "predictions = model.transform(test_data)\n",
        "\n",
        "# Evaluate the model using MulticlassClassificationEvaluator\n",
        "evaluator_multiclass = MulticlassClassificationEvaluator(labelCol=label_column, metricName=\"accuracy\")\n",
        "\n",
        "# Calculate accuracy\n",
        "accuracy = evaluator_multiclass.evaluate(predictions)\n",
        "\n",
        "# Print the accuracy and other metrics\n",
        "print(\"Logistic Model Accuracy:\", accuracy * 100, \"%\")\n"
      ],
      "metadata": {
        "colab": {
          "base_uri": "https://localhost:8080/"
        },
        "id": "lmdCtHg9xQsj",
        "outputId": "aebc9a85-372b-4a39-c1b9-9b2c1e204161"
      },
      "execution_count": null,
      "outputs": [
        {
          "output_type": "stream",
          "name": "stdout",
          "text": [
            "Logistic Model Accuracy: 80.05093378607809 %\n"
          ]
        }
      ]
    },
    {
      "cell_type": "markdown",
      "source": [
        "**DECISION TREE CLASSIFICATION**"
      ],
      "metadata": {
        "id": "P8ssW4qtDgup"
      }
    },
    {
      "cell_type": "code",
      "source": [
        "# Build a Decision Tree model\n",
        "dt_classifier = DecisionTreeClassifier(labelCol=label_column, featuresCol=\"features\", maxDepth=10, minInstancesPerNode=8)\n",
        "\n",
        "# Train the model\n",
        "dt_model = dt_classifier.fit(train_data)\n",
        "\n",
        "# Make predictions on the test set\n",
        "predictions = dt_model.transform(test_data)\n",
        "\n",
        "# Evaluate the model using MulticlassClassificationEvaluator\n",
        "evaluator_multiclass = MulticlassClassificationEvaluator(labelCol=label_column, metricName=\"accuracy\")\n",
        "\n",
        "# Calculate accuracy\n",
        "accuracy = evaluator_multiclass.evaluate(predictions)\n",
        "\n",
        "# Print the accuracy and other metrics\n",
        "print(\"Decision Tree Model Accuracy:\", accuracy * 100, \"%\")"
      ],
      "metadata": {
        "colab": {
          "base_uri": "https://localhost:8080/"
        },
        "id": "WbVPHFBkxWH1",
        "outputId": "513fabec-f0f2-4913-931d-dd85a954aa88"
      },
      "execution_count": null,
      "outputs": [
        {
          "output_type": "stream",
          "name": "stdout",
          "text": [
            "Decision Tree Model Accuracy: 78.73514431239389 %\n"
          ]
        }
      ]
    },
    {
      "cell_type": "markdown",
      "source": [
        "**RANDOM FOREST CLASSIFICATION**\n"
      ],
      "metadata": {
        "id": "c1bXmvZvDm6N"
      }
    },
    {
      "cell_type": "code",
      "source": [
        "# Build a Random Forest model\n",
        "rf_classifier = RandomForestClassifier(labelCol=label_column, featuresCol=\"features\", numTrees=100, maxDepth=5, minInstancesPerNode=4)\n",
        "\n",
        "# Train the model\n",
        "rf_model = rf_classifier.fit(train_data)\n",
        "\n",
        "# Make predictions on the test set\n",
        "predictions = rf_model.transform(test_data)\n",
        "\n",
        "# Evaluate the model using MulticlassClassificationEvaluator\n",
        "evaluator_multiclass = MulticlassClassificationEvaluator(labelCol=label_column, metricName=\"accuracy\")\n",
        "\n",
        "# Calculate accuracy\n",
        "accuracy = evaluator_multiclass.evaluate(predictions)\n",
        "\n",
        "# Print the accuracy and other metrics\n",
        "print(\"Random Forest Model Accuracy:\", accuracy * 100, \"%\")"
      ],
      "metadata": {
        "colab": {
          "base_uri": "https://localhost:8080/"
        },
        "id": "FPtb5ZmyxQ5g",
        "outputId": "d037777c-6bea-45f2-ddeb-e84b9bf071d7"
      },
      "execution_count": null,
      "outputs": [
        {
          "output_type": "stream",
          "name": "stdout",
          "text": [
            "Random Forest Model Accuracy: 80.05093378607809 %\n"
          ]
        }
      ]
    },
    {
      "cell_type": "markdown",
      "source": [
        "**SUPPORT VECTOR MACHINE CLASSIFICATION**"
      ],
      "metadata": {
        "id": "KqKdrOmfEsjM"
      }
    },
    {
      "cell_type": "code",
      "source": [
        "\n",
        "# Build a Support Vector Machine (SVM) model\n",
        "svm_classifier = LinearSVC(labelCol=label_column, featuresCol=\"features\")\n",
        "\n",
        "# Train the model\n",
        "svm_model = svm_classifier.fit(train_data)\n",
        "\n",
        "# Make predictions on the test set\n",
        "predictions = svm_model.transform(test_data)\n",
        "\n",
        "# Evaluate the model using MulticlassClassificationEvaluator\n",
        "evaluator_multiclass = MulticlassClassificationEvaluator(labelCol=label_column, metricName=\"accuracy\")\n",
        "\n",
        "# Calculate accuracy\n",
        "accuracy = evaluator_multiclass.evaluate(predictions)\n",
        "\n",
        "# Print the accuracy and other metrics\n",
        "print(\"Support Vector Classifier Accuracy:\", accuracy * 100, \"%\")"
      ],
      "metadata": {
        "colab": {
          "base_uri": "https://localhost:8080/"
        },
        "id": "-3HGKvsDxQ8g",
        "outputId": "c4d6472f-b7c5-467d-ddc9-60c283437895"
      },
      "execution_count": null,
      "outputs": [
        {
          "output_type": "stream",
          "name": "stdout",
          "text": [
            "Support Vector Classifier Accuracy: 80.05093378607809 %\n"
          ]
        }
      ]
    },
    {
      "cell_type": "markdown",
      "source": [
        "**XGBOOST  CLASSIFICATION**"
      ],
      "metadata": {
        "id": "H60LdsMAGlJM"
      }
    },
    {
      "cell_type": "code",
      "source": [
        "# Build an XGBoost model (GBTClassifier in PySpark)\n",
        "xgb_classifier = GBTClassifier(labelCol=label_column, featuresCol=\"features\")\n",
        "\n",
        "# Train the model\n",
        "xgb_model = xgb_classifier.fit(train_data)\n",
        "\n",
        "# Make predictions on the test set\n",
        "predictions = xgb_model.transform(test_data)\n",
        "\n",
        "# Evaluate the model using MulticlassClassificationEvaluator\n",
        "evaluator_multiclass = MulticlassClassificationEvaluator(labelCol=label_column, metricName=\"accuracy\")\n",
        "\n",
        "# Calculate accuracy\n",
        "accuracy = evaluator_multiclass.evaluate(predictions)\n",
        "\n",
        "# Print the accuracy and other metrics\n",
        "print(\"XGBoost Model Accuracy:\", accuracy * 100, \"%\")"
      ],
      "metadata": {
        "colab": {
          "base_uri": "https://localhost:8080/"
        },
        "id": "a0UgL_tfxQ-2",
        "outputId": "de16cee3-1a17-443c-d223-648b5d677952"
      },
      "execution_count": null,
      "outputs": [
        {
          "output_type": "stream",
          "name": "stdout",
          "text": [
            "XGBoost Model Accuracy: 79.45670628183362 %\n"
          ]
        }
      ]
    },
    {
      "cell_type": "markdown",
      "source": [
        "Logistic Model Accuracy : 80.05 %\n",
        "\n",
        "DecisionTree Model Accuracy : 78.73 %\n",
        "\n",
        "Random Forest Model Accuracy : 80.05 %\n",
        "\n",
        "Support Vector Classifier Accuracy : 80.05 %\n",
        "\n",
        "XGBoost Model Accuracy : 79.45 %"
      ],
      "metadata": {
        "id": "4eOJigiXiryb"
      }
    },
    {
      "cell_type": "code",
      "source": [],
      "metadata": {
        "id": "VwQ3Ezf4akAY"
      },
      "execution_count": null,
      "outputs": []
    },
    {
      "cell_type": "markdown",
      "source": [
        "Converting Dataset from pyspark to pandas"
      ],
      "metadata": {
        "id": "glPETL0ZJTcM"
      }
    },
    {
      "cell_type": "code",
      "source": [
        "final_data2 = final_data"
      ],
      "metadata": {
        "id": "QgRL_IsnKvPD"
      },
      "execution_count": null,
      "outputs": []
    },
    {
      "cell_type": "code",
      "source": [
        "# Collect PySpark DataFrame data to the driver node and convert to pandas DataFrame\n",
        "final_Data = final_data2.collect()\n",
        "\n",
        "# Now final_data_pandas is a list of Row objects. You can convert it to a pandas DataFrame\n",
        "import pandas as pd\n",
        "final_Data = pd.DataFrame(final_Data)"
      ],
      "metadata": {
        "id": "KpETH_kZZK0B"
      },
      "execution_count": null,
      "outputs": []
    },
    {
      "cell_type": "code",
      "source": [
        "final_Data"
      ],
      "metadata": {
        "colab": {
          "base_uri": "https://localhost:8080/",
          "height": 423
        },
        "id": "j0uNLJiIS2zL",
        "outputId": "c6dbaa10-ef66-48f1-e7cf-9886d73175c4"
      },
      "execution_count": null,
      "outputs": [
        {
          "output_type": "execute_result",
          "data": {
            "text/plain": [
              "       0         1   2   3   4    5   6   7   8   9   10  11  12\n",
              "0       3  270000.0   1  35   3  5.0   0   1   1   0   0   0   0\n",
              "1       0  135000.0   1  43   1  2.0   0   0   0   1   1   2   0\n",
              "2       0  225000.0   1  53  12  1.0   0   0   0   1   0   1   0\n",
              "3       0  157500.0   1  30   1  1.0   0   1   0   0   0   1   0\n",
              "4       1  144000.0   3  37   0  3.0   0   0   0   0   0   2   0\n",
              "...    ..       ...  ..  ..  ..  ...  ..  ..  ..  ..  ..  ..  ..\n",
              "11752   1  135000.0   1  34   4  3.0   1   1   1   0   0   0   0\n",
              "11753   0  225000.0   3  30   1  1.0   0   1   1   0   1   1   0\n",
              "11754   2  135000.0   3  37   6  4.0   0   1   1   0   0   0   0\n",
              "11755   0  112500.0   1  58   2  1.0   0   0   1   0   0   4   0\n",
              "11756   2  180000.0   1  34  10  4.0   1   1   1   1   1   0   0\n",
              "\n",
              "[11757 rows x 13 columns]"
            ],
            "text/html": [
              "\n",
              "  <div id=\"df-96a095e1-e201-4ee0-b3d2-abcbd44579fe\" class=\"colab-df-container\">\n",
              "    <div>\n",
              "<style scoped>\n",
              "    .dataframe tbody tr th:only-of-type {\n",
              "        vertical-align: middle;\n",
              "    }\n",
              "\n",
              "    .dataframe tbody tr th {\n",
              "        vertical-align: top;\n",
              "    }\n",
              "\n",
              "    .dataframe thead th {\n",
              "        text-align: right;\n",
              "    }\n",
              "</style>\n",
              "<table border=\"1\" class=\"dataframe\">\n",
              "  <thead>\n",
              "    <tr style=\"text-align: right;\">\n",
              "      <th></th>\n",
              "      <th>0</th>\n",
              "      <th>1</th>\n",
              "      <th>2</th>\n",
              "      <th>3</th>\n",
              "      <th>4</th>\n",
              "      <th>5</th>\n",
              "      <th>6</th>\n",
              "      <th>7</th>\n",
              "      <th>8</th>\n",
              "      <th>9</th>\n",
              "      <th>10</th>\n",
              "      <th>11</th>\n",
              "      <th>12</th>\n",
              "    </tr>\n",
              "  </thead>\n",
              "  <tbody>\n",
              "    <tr>\n",
              "      <th>0</th>\n",
              "      <td>3</td>\n",
              "      <td>270000.0</td>\n",
              "      <td>1</td>\n",
              "      <td>35</td>\n",
              "      <td>3</td>\n",
              "      <td>5.0</td>\n",
              "      <td>0</td>\n",
              "      <td>1</td>\n",
              "      <td>1</td>\n",
              "      <td>0</td>\n",
              "      <td>0</td>\n",
              "      <td>0</td>\n",
              "      <td>0</td>\n",
              "    </tr>\n",
              "    <tr>\n",
              "      <th>1</th>\n",
              "      <td>0</td>\n",
              "      <td>135000.0</td>\n",
              "      <td>1</td>\n",
              "      <td>43</td>\n",
              "      <td>1</td>\n",
              "      <td>2.0</td>\n",
              "      <td>0</td>\n",
              "      <td>0</td>\n",
              "      <td>0</td>\n",
              "      <td>1</td>\n",
              "      <td>1</td>\n",
              "      <td>2</td>\n",
              "      <td>0</td>\n",
              "    </tr>\n",
              "    <tr>\n",
              "      <th>2</th>\n",
              "      <td>0</td>\n",
              "      <td>225000.0</td>\n",
              "      <td>1</td>\n",
              "      <td>53</td>\n",
              "      <td>12</td>\n",
              "      <td>1.0</td>\n",
              "      <td>0</td>\n",
              "      <td>0</td>\n",
              "      <td>0</td>\n",
              "      <td>1</td>\n",
              "      <td>0</td>\n",
              "      <td>1</td>\n",
              "      <td>0</td>\n",
              "    </tr>\n",
              "    <tr>\n",
              "      <th>3</th>\n",
              "      <td>0</td>\n",
              "      <td>157500.0</td>\n",
              "      <td>1</td>\n",
              "      <td>30</td>\n",
              "      <td>1</td>\n",
              "      <td>1.0</td>\n",
              "      <td>0</td>\n",
              "      <td>1</td>\n",
              "      <td>0</td>\n",
              "      <td>0</td>\n",
              "      <td>0</td>\n",
              "      <td>1</td>\n",
              "      <td>0</td>\n",
              "    </tr>\n",
              "    <tr>\n",
              "      <th>4</th>\n",
              "      <td>1</td>\n",
              "      <td>144000.0</td>\n",
              "      <td>3</td>\n",
              "      <td>37</td>\n",
              "      <td>0</td>\n",
              "      <td>3.0</td>\n",
              "      <td>0</td>\n",
              "      <td>0</td>\n",
              "      <td>0</td>\n",
              "      <td>0</td>\n",
              "      <td>0</td>\n",
              "      <td>2</td>\n",
              "      <td>0</td>\n",
              "    </tr>\n",
              "    <tr>\n",
              "      <th>...</th>\n",
              "      <td>...</td>\n",
              "      <td>...</td>\n",
              "      <td>...</td>\n",
              "      <td>...</td>\n",
              "      <td>...</td>\n",
              "      <td>...</td>\n",
              "      <td>...</td>\n",
              "      <td>...</td>\n",
              "      <td>...</td>\n",
              "      <td>...</td>\n",
              "      <td>...</td>\n",
              "      <td>...</td>\n",
              "      <td>...</td>\n",
              "    </tr>\n",
              "    <tr>\n",
              "      <th>11752</th>\n",
              "      <td>1</td>\n",
              "      <td>135000.0</td>\n",
              "      <td>1</td>\n",
              "      <td>34</td>\n",
              "      <td>4</td>\n",
              "      <td>3.0</td>\n",
              "      <td>1</td>\n",
              "      <td>1</td>\n",
              "      <td>1</td>\n",
              "      <td>0</td>\n",
              "      <td>0</td>\n",
              "      <td>0</td>\n",
              "      <td>0</td>\n",
              "    </tr>\n",
              "    <tr>\n",
              "      <th>11753</th>\n",
              "      <td>0</td>\n",
              "      <td>225000.0</td>\n",
              "      <td>3</td>\n",
              "      <td>30</td>\n",
              "      <td>1</td>\n",
              "      <td>1.0</td>\n",
              "      <td>0</td>\n",
              "      <td>1</td>\n",
              "      <td>1</td>\n",
              "      <td>0</td>\n",
              "      <td>1</td>\n",
              "      <td>1</td>\n",
              "      <td>0</td>\n",
              "    </tr>\n",
              "    <tr>\n",
              "      <th>11754</th>\n",
              "      <td>2</td>\n",
              "      <td>135000.0</td>\n",
              "      <td>3</td>\n",
              "      <td>37</td>\n",
              "      <td>6</td>\n",
              "      <td>4.0</td>\n",
              "      <td>0</td>\n",
              "      <td>1</td>\n",
              "      <td>1</td>\n",
              "      <td>0</td>\n",
              "      <td>0</td>\n",
              "      <td>0</td>\n",
              "      <td>0</td>\n",
              "    </tr>\n",
              "    <tr>\n",
              "      <th>11755</th>\n",
              "      <td>0</td>\n",
              "      <td>112500.0</td>\n",
              "      <td>1</td>\n",
              "      <td>58</td>\n",
              "      <td>2</td>\n",
              "      <td>1.0</td>\n",
              "      <td>0</td>\n",
              "      <td>0</td>\n",
              "      <td>1</td>\n",
              "      <td>0</td>\n",
              "      <td>0</td>\n",
              "      <td>4</td>\n",
              "      <td>0</td>\n",
              "    </tr>\n",
              "    <tr>\n",
              "      <th>11756</th>\n",
              "      <td>2</td>\n",
              "      <td>180000.0</td>\n",
              "      <td>1</td>\n",
              "      <td>34</td>\n",
              "      <td>10</td>\n",
              "      <td>4.0</td>\n",
              "      <td>1</td>\n",
              "      <td>1</td>\n",
              "      <td>1</td>\n",
              "      <td>1</td>\n",
              "      <td>1</td>\n",
              "      <td>0</td>\n",
              "      <td>0</td>\n",
              "    </tr>\n",
              "  </tbody>\n",
              "</table>\n",
              "<p>11757 rows × 13 columns</p>\n",
              "</div>\n",
              "    <div class=\"colab-df-buttons\">\n",
              "\n",
              "  <div class=\"colab-df-container\">\n",
              "    <button class=\"colab-df-convert\" onclick=\"convertToInteractive('df-96a095e1-e201-4ee0-b3d2-abcbd44579fe')\"\n",
              "            title=\"Convert this dataframe to an interactive table.\"\n",
              "            style=\"display:none;\">\n",
              "\n",
              "  <svg xmlns=\"http://www.w3.org/2000/svg\" height=\"24px\" viewBox=\"0 -960 960 960\">\n",
              "    <path d=\"M120-120v-720h720v720H120Zm60-500h600v-160H180v160Zm220 220h160v-160H400v160Zm0 220h160v-160H400v160ZM180-400h160v-160H180v160Zm440 0h160v-160H620v160ZM180-180h160v-160H180v160Zm440 0h160v-160H620v160Z\"/>\n",
              "  </svg>\n",
              "    </button>\n",
              "\n",
              "  <style>\n",
              "    .colab-df-container {\n",
              "      display:flex;\n",
              "      gap: 12px;\n",
              "    }\n",
              "\n",
              "    .colab-df-convert {\n",
              "      background-color: #E8F0FE;\n",
              "      border: none;\n",
              "      border-radius: 50%;\n",
              "      cursor: pointer;\n",
              "      display: none;\n",
              "      fill: #1967D2;\n",
              "      height: 32px;\n",
              "      padding: 0 0 0 0;\n",
              "      width: 32px;\n",
              "    }\n",
              "\n",
              "    .colab-df-convert:hover {\n",
              "      background-color: #E2EBFA;\n",
              "      box-shadow: 0px 1px 2px rgba(60, 64, 67, 0.3), 0px 1px 3px 1px rgba(60, 64, 67, 0.15);\n",
              "      fill: #174EA6;\n",
              "    }\n",
              "\n",
              "    .colab-df-buttons div {\n",
              "      margin-bottom: 4px;\n",
              "    }\n",
              "\n",
              "    [theme=dark] .colab-df-convert {\n",
              "      background-color: #3B4455;\n",
              "      fill: #D2E3FC;\n",
              "    }\n",
              "\n",
              "    [theme=dark] .colab-df-convert:hover {\n",
              "      background-color: #434B5C;\n",
              "      box-shadow: 0px 1px 3px 1px rgba(0, 0, 0, 0.15);\n",
              "      filter: drop-shadow(0px 1px 2px rgba(0, 0, 0, 0.3));\n",
              "      fill: #FFFFFF;\n",
              "    }\n",
              "  </style>\n",
              "\n",
              "    <script>\n",
              "      const buttonEl =\n",
              "        document.querySelector('#df-96a095e1-e201-4ee0-b3d2-abcbd44579fe button.colab-df-convert');\n",
              "      buttonEl.style.display =\n",
              "        google.colab.kernel.accessAllowed ? 'block' : 'none';\n",
              "\n",
              "      async function convertToInteractive(key) {\n",
              "        const element = document.querySelector('#df-96a095e1-e201-4ee0-b3d2-abcbd44579fe');\n",
              "        const dataTable =\n",
              "          await google.colab.kernel.invokeFunction('convertToInteractive',\n",
              "                                                    [key], {});\n",
              "        if (!dataTable) return;\n",
              "\n",
              "        const docLinkHtml = 'Like what you see? Visit the ' +\n",
              "          '<a target=\"_blank\" href=https://colab.research.google.com/notebooks/data_table.ipynb>data table notebook</a>'\n",
              "          + ' to learn more about interactive tables.';\n",
              "        element.innerHTML = '';\n",
              "        dataTable['output_type'] = 'display_data';\n",
              "        await google.colab.output.renderOutput(dataTable, element);\n",
              "        const docLink = document.createElement('div');\n",
              "        docLink.innerHTML = docLinkHtml;\n",
              "        element.appendChild(docLink);\n",
              "      }\n",
              "    </script>\n",
              "  </div>\n",
              "\n",
              "\n",
              "<div id=\"df-7487f3f8-f5c1-42da-89cf-cb012c1e0166\">\n",
              "  <button class=\"colab-df-quickchart\" onclick=\"quickchart('df-7487f3f8-f5c1-42da-89cf-cb012c1e0166')\"\n",
              "            title=\"Suggest charts.\"\n",
              "            style=\"display:none;\">\n",
              "\n",
              "<svg xmlns=\"http://www.w3.org/2000/svg\" height=\"24px\"viewBox=\"0 0 24 24\"\n",
              "     width=\"24px\">\n",
              "    <g>\n",
              "        <path d=\"M19 3H5c-1.1 0-2 .9-2 2v14c0 1.1.9 2 2 2h14c1.1 0 2-.9 2-2V5c0-1.1-.9-2-2-2zM9 17H7v-7h2v7zm4 0h-2V7h2v10zm4 0h-2v-4h2v4z\"/>\n",
              "    </g>\n",
              "</svg>\n",
              "  </button>\n",
              "\n",
              "<style>\n",
              "  .colab-df-quickchart {\n",
              "    background-color: #E8F0FE;\n",
              "    border: none;\n",
              "    border-radius: 50%;\n",
              "    cursor: pointer;\n",
              "    display: none;\n",
              "    fill: #1967D2;\n",
              "    height: 32px;\n",
              "    padding: 0 0 0 0;\n",
              "    width: 32px;\n",
              "  }\n",
              "\n",
              "  .colab-df-quickchart:hover {\n",
              "    background-color: #E2EBFA;\n",
              "    box-shadow: 0px 1px 2px rgba(60, 64, 67, 0.3), 0px 1px 3px 1px rgba(60, 64, 67, 0.15);\n",
              "    fill: #174EA6;\n",
              "  }\n",
              "\n",
              "  [theme=dark] .colab-df-quickchart {\n",
              "    background-color: #3B4455;\n",
              "    fill: #D2E3FC;\n",
              "  }\n",
              "\n",
              "  [theme=dark] .colab-df-quickchart:hover {\n",
              "    background-color: #434B5C;\n",
              "    box-shadow: 0px 1px 3px 1px rgba(0, 0, 0, 0.15);\n",
              "    filter: drop-shadow(0px 1px 2px rgba(0, 0, 0, 0.3));\n",
              "    fill: #FFFFFF;\n",
              "  }\n",
              "</style>\n",
              "\n",
              "  <script>\n",
              "    async function quickchart(key) {\n",
              "      const charts = await google.colab.kernel.invokeFunction(\n",
              "          'suggestCharts', [key], {});\n",
              "    }\n",
              "    (() => {\n",
              "      let quickchartButtonEl =\n",
              "        document.querySelector('#df-7487f3f8-f5c1-42da-89cf-cb012c1e0166 button');\n",
              "      quickchartButtonEl.style.display =\n",
              "        google.colab.kernel.accessAllowed ? 'block' : 'none';\n",
              "    })();\n",
              "  </script>\n",
              "</div>\n",
              "    </div>\n",
              "  </div>\n"
            ]
          },
          "metadata": {},
          "execution_count": 80
        }
      ]
    },
    {
      "cell_type": "code",
      "source": [
        "new_column_names = {\n",
        "\n",
        "    0: 'CNT_CHILDREN',\n",
        "    1: 'INCOME',\n",
        "    2: 'EDUCATION_TYPE',\n",
        "    3: 'AGE',\n",
        "    4: 'YEARS_EMPLOYED',\n",
        "    5: 'CNT_FAM_MEMBERS',\n",
        "    6: 'STATUS',\n",
        "    7: 'GENDER',\n",
        "    8: 'FLAG_OWN_CAR',\n",
        "    9: 'FLAG_OWN_REALTY',\n",
        "    10: 'INCOME_TYPE',\n",
        "    11: 'MARRIAGE_STATUS',\n",
        "    12: 'HOUSING_TYPE '\n",
        "\n",
        "}\n",
        "\n",
        "# Use the rename() method to rename columns\n",
        "final_Data.rename(columns=new_column_names, inplace=True)"
      ],
      "metadata": {
        "id": "ELyXxtDsluX3"
      },
      "execution_count": null,
      "outputs": []
    },
    {
      "cell_type": "markdown",
      "source": [
        "Libraries Required after converting to Pandas Dataframe"
      ],
      "metadata": {
        "id": "_pbEw1pAbAuj"
      }
    },
    {
      "cell_type": "code",
      "source": [
        "from sklearn.model_selection import train_test_split\n",
        "from sklearn.preprocessing import MinMaxScaler\n",
        "from imblearn.over_sampling import SMOTE\n",
        "from sklearn.linear_model import LogisticRegression\n",
        "from sklearn.tree import DecisionTreeClassifier\n",
        "from sklearn.ensemble import RandomForestClassifier\n",
        "from sklearn.svm import SVC\n",
        "from xgboost import XGBClassifier\n",
        "from sklearn.model_selection import GridSearchCV\n",
        "from sklearn.metrics import classification_report, accuracy_score, confusion_matrix"
      ],
      "metadata": {
        "id": "AZOwaKXzZpqk"
      },
      "execution_count": null,
      "outputs": []
    },
    {
      "cell_type": "markdown",
      "source": [
        "**SPLITING DATASET**"
      ],
      "metadata": {
        "id": "fiu2rD1ejYnB"
      }
    },
    {
      "cell_type": "code",
      "source": [
        "X = final_Data.drop(['STATUS'], axis=1)\n",
        "y = final_Data['STATUS']"
      ],
      "metadata": {
        "id": "SyTlGHuVaqS8"
      },
      "execution_count": null,
      "outputs": []
    },
    {
      "cell_type": "code",
      "source": [
        "X_train, X_test, y_train, y_test = train_test_split(X, y, test_size=0.2, random_state = 22)"
      ],
      "metadata": {
        "id": "76sw0eRRWzdM"
      },
      "execution_count": null,
      "outputs": []
    },
    {
      "cell_type": "markdown",
      "source": [
        "**BALANCING DATASET**"
      ],
      "metadata": {
        "id": "zwnay8jHoagE"
      }
    },
    {
      "cell_type": "code",
      "source": [
        "# scaling all features\n",
        "MMS = MinMaxScaler()\n",
        "X_train_scaled = pd.DataFrame(MMS.fit_transform(X_train), columns= X_train.columns)\n",
        "X_test_scaled = pd.DataFrame(MMS.transform(X_test), columns= X_test.columns)"
      ],
      "metadata": {
        "id": "JUAqFTsza8WD"
      },
      "execution_count": null,
      "outputs": []
    },
    {
      "cell_type": "code",
      "source": [
        "# adding samples to minority class using SMOTE\n",
        "oversample = SMOTE()\n",
        "\n",
        "X_train_oversam, y_train_oversam = oversample.fit_resample(X_train_scaled, y_train)\n",
        "X_test_oversam, y_test_oversam = oversample.fit_resample(X_test_scaled, y_test)"
      ],
      "metadata": {
        "id": "MSntWtqKWzfq"
      },
      "execution_count": null,
      "outputs": []
    },
    {
      "cell_type": "markdown",
      "source": [
        "**Machine Learning Model after Balancing**"
      ],
      "metadata": {
        "id": "Wbyc-U5GovEN"
      }
    },
    {
      "cell_type": "markdown",
      "source": [
        "**LOGISTIC REGRESSION**"
      ],
      "metadata": {
        "id": "RGm1RxRPjkLN"
      }
    },
    {
      "cell_type": "code",
      "source": [
        "# Logistic Regression\n",
        "\n",
        "log_model = LogisticRegression()\n",
        "log_model.fit(X_train_oversam, y_train_oversam)\n",
        "\n",
        "predict_lr = log_model.predict(X_test_oversam)\n",
        "print('Logistic Model Accuracy : ', accuracy_score(y_test_oversam, predict_lr)*100, '%')\n",
        "\n",
        "print('\\nConfusion matrix :')\n",
        "print(confusion_matrix(y_test_oversam, predict_lr))\n",
        "\n",
        "print('\\nClassification report:')\n",
        "print(classification_report(y_test_oversam, predict_lr))"
      ],
      "metadata": {
        "colab": {
          "base_uri": "https://localhost:8080/"
        },
        "id": "IqvQ1oMgWzif",
        "outputId": "44d7041a-0e72-450c-a367-678d06b3e455"
      },
      "execution_count": null,
      "outputs": [
        {
          "output_type": "stream",
          "name": "stdout",
          "text": [
            "Logistic Model Accuracy :  49.758842443729904 %\n",
            "\n",
            "Confusion matrix :\n",
            "[[953 913]\n",
            " [962 904]]\n",
            "\n",
            "Classification report:\n",
            "              precision    recall  f1-score   support\n",
            "\n",
            "           0       0.50      0.51      0.50      1866\n",
            "           1       0.50      0.48      0.49      1866\n",
            "\n",
            "    accuracy                           0.50      3732\n",
            "   macro avg       0.50      0.50      0.50      3732\n",
            "weighted avg       0.50      0.50      0.50      3732\n",
            "\n"
          ]
        }
      ]
    },
    {
      "cell_type": "markdown",
      "source": [
        "**DECISION TREE CLASSIFICATION**"
      ],
      "metadata": {
        "id": "gkwxIZBgjxiq"
      }
    },
    {
      "cell_type": "code",
      "source": [
        "# Define the parameter grid for grid search\n",
        "param_grid = {\n",
        "    'max_depth': [2,4, 6,8,10,12,14,16,18,20],  # Adjust these values based on your domain knowledge\n",
        "    'min_samples_split': [2, 4,6,8, 10],\n",
        "    'min_samples_leaf': [2, 4,6,8,10]\n",
        "}\n",
        "\n",
        "# Create an instance of the Decision Tree model\n",
        "base_decision_model = DecisionTreeClassifier()\n",
        "\n",
        "# Create a GridSearchCV instance with the Decision Tree model and parameter grid\n",
        "grid_search = GridSearchCV(base_decision_model, param_grid, cv=5, scoring='accuracy')\n",
        "\n",
        "# Fit the grid search to the training data\n",
        "grid_search.fit(X_train_oversam, y_train_oversam)\n",
        "\n",
        "# Get the best Decision Tree model from the grid search\n",
        "best_decision_model = grid_search.best_estimator_\n",
        "\n",
        "# Print the best hyperparameters\n",
        "print(\"Best Hyperparameters:\", grid_search.best_params_)\n",
        "\n",
        "# Make predictions on the test data using the best Decision Tree model\n",
        "pred_dt = best_decision_model.predict(X_test_oversam)\n",
        "\n",
        "# Calculate and print the accuracy of the best Decision Tree model\n",
        "accuracy = accuracy_score(y_test_oversam, pred_dt) * 100\n",
        "print('Best Decision Tree Model Accuracy:', accuracy, '%')\n",
        "\n",
        "# Print the confusion matrix\n",
        "print('\\nConfusion matrix:')\n",
        "print(confusion_matrix(y_test_oversam, pred_dt))\n",
        "\n",
        "# Print the classification report\n",
        "print('\\nClassification report:')\n",
        "print(classification_report(y_test_oversam, pred_dt))"
      ],
      "metadata": {
        "colab": {
          "base_uri": "https://localhost:8080/"
        },
        "id": "hQZzVcX9t6KV",
        "outputId": "595b14d3-59d1-4e87-f319-1b8c33143997"
      },
      "execution_count": null,
      "outputs": [
        {
          "output_type": "stream",
          "name": "stdout",
          "text": [
            "Best Hyperparameters: {'max_depth': 20, 'min_samples_leaf': 10, 'min_samples_split': 6}\n",
            "Best Decision Tree Model Accuracy: 76.58092175777064 %\n",
            "\n",
            "Confusion matrix:\n",
            "[[1590  276]\n",
            " [ 598 1268]]\n",
            "\n",
            "Classification report:\n",
            "              precision    recall  f1-score   support\n",
            "\n",
            "           0       0.73      0.85      0.78      1866\n",
            "           1       0.82      0.68      0.74      1866\n",
            "\n",
            "    accuracy                           0.77      3732\n",
            "   macro avg       0.77      0.77      0.76      3732\n",
            "weighted avg       0.77      0.77      0.76      3732\n",
            "\n"
          ]
        }
      ]
    },
    {
      "cell_type": "markdown",
      "source": [
        "**RANDOM FOREST CLASSIFICATION**"
      ],
      "metadata": {
        "id": "1qVWSoe4kN8K"
      }
    },
    {
      "cell_type": "code",
      "source": [
        "# Define the parameter grid for grid search\n",
        "param_grid = {\n",
        "    'n_estimators': [100, 150,200],  # Adjust the number of estimators\n",
        "    'max_depth': [5, 10, 15],   # Adjust these values based on your domain knowledge\n",
        "    'min_samples_leaf': [4,6,8]\n",
        "}\n",
        "\n",
        "# Create an instance of the Random Forest model\n",
        "base_rf_model = RandomForestClassifier()\n",
        "\n",
        "# Create a GridSearchCV instance with the Random Forest model and parameter grid\n",
        "grid_search = GridSearchCV(base_rf_model, param_grid, cv=5, scoring='accuracy')\n",
        "\n",
        "# Fit the grid search to the training data\n",
        "grid_search.fit(X_train_oversam, y_train_oversam)\n",
        "\n",
        "# Get the best Random Forest model from the grid search\n",
        "best_rf_model = grid_search.best_estimator_\n",
        "\n",
        "# Print the best hyperparameters\n",
        "print(\"Best Hyperparameters:\", grid_search.best_params_)\n",
        "\n",
        "# Make predictions on the test data using the best Random Forest model\n",
        "pred_rf = best_rf_model.predict(X_test_oversam)\n",
        "\n",
        "# Calculate and print the accuracy of the best Random Forest model\n",
        "accuracy = accuracy_score(y_test_oversam, pred_rf) * 100\n",
        "print('Best Random Forest Model Accuracy:', accuracy, '%')\n",
        "\n",
        "# Print the confusion matrix\n",
        "print('\\nConfusion matrix:')\n",
        "print(confusion_matrix(y_test_oversam, pred_rf))\n",
        "\n",
        "# Print the classification report\n",
        "print('\\nClassification report:')\n",
        "print(classification_report(y_test_oversam, pred_rf))"
      ],
      "metadata": {
        "colab": {
          "base_uri": "https://localhost:8080/"
        },
        "id": "X0QcC42bvv3U",
        "outputId": "43d4846e-d214-42fa-aa45-bea84a66627c"
      },
      "execution_count": null,
      "outputs": [
        {
          "output_type": "stream",
          "name": "stdout",
          "text": [
            "Best Hyperparameters: {'max_depth': 15, 'min_samples_leaf': 8, 'n_estimators': 200}\n",
            "Best Random Forest Model Accuracy: 75.45551982851019 %\n",
            "\n",
            "Confusion matrix:\n",
            "[[1589  277]\n",
            " [ 639 1227]]\n",
            "\n",
            "Classification report:\n",
            "              precision    recall  f1-score   support\n",
            "\n",
            "           0       0.71      0.85      0.78      1866\n",
            "           1       0.82      0.66      0.73      1866\n",
            "\n",
            "    accuracy                           0.75      3732\n",
            "   macro avg       0.76      0.75      0.75      3732\n",
            "weighted avg       0.76      0.75      0.75      3732\n",
            "\n"
          ]
        }
      ]
    },
    {
      "cell_type": "markdown",
      "source": [
        "**SUPPORT VECTOR MACHINE CLASSIFICATION**"
      ],
      "metadata": {
        "id": "Jxn-VQLZkb7b"
      }
    },
    {
      "cell_type": "code",
      "source": [
        "# Support Vector Machine classification\n",
        "\n",
        "svc_model = SVC()\n",
        "\n",
        "svc_model.fit(X_train_oversam, y_train_oversam)\n",
        "\n",
        "pred_svc = svc_model.predict(X_test_oversam)\n",
        "print('Support Vector Classifier Accuracy : ', accuracy_score(y_test_oversam, pred_svc)*100, '%')\n",
        "\n",
        "print('\\nConfusion matrix :')\n",
        "print(confusion_matrix(y_test_oversam, pred_svc))\n",
        "\n",
        "print('\\nClassification report:')\n",
        "print(classification_report(y_test_oversam, pred_svc))\n"
      ],
      "metadata": {
        "colab": {
          "base_uri": "https://localhost:8080/"
        },
        "id": "-6K3X0mLo7zU",
        "outputId": "096c0d6d-7e7d-4966-d51f-b2b355451813"
      },
      "execution_count": null,
      "outputs": [
        {
          "output_type": "stream",
          "name": "stdout",
          "text": [
            "Support Vector Classifier Accuracy :  50.61629153269025 %\n",
            "\n",
            "Confusion matrix :\n",
            "[[ 853 1013]\n",
            " [ 830 1036]]\n",
            "\n",
            "Classification report:\n",
            "              precision    recall  f1-score   support\n",
            "\n",
            "           0       0.51      0.46      0.48      1866\n",
            "           1       0.51      0.56      0.53      1866\n",
            "\n",
            "    accuracy                           0.51      3732\n",
            "   macro avg       0.51      0.51      0.50      3732\n",
            "weighted avg       0.51      0.51      0.50      3732\n",
            "\n"
          ]
        }
      ]
    },
    {
      "cell_type": "markdown",
      "source": [
        "**XGBOOST CLASSIFICATION**"
      ],
      "metadata": {
        "id": "bUHbpYf1kkiQ"
      }
    },
    {
      "cell_type": "code",
      "source": [
        "# XGBoost  classification\n",
        "\n",
        "XGB_model = XGBClassifier()\n",
        "\n",
        "XGB_model.fit(X_train_oversam, y_train_oversam)\n",
        "\n",
        "predict_xgb = XGB_model.predict(X_test_oversam)\n",
        "print('XGBoost Model Accuracy : ', accuracy_score(y_test_oversam, predict_xgb)*100, '%')\n",
        "\n",
        "print('\\nConfusion matrix :')\n",
        "print(confusion_matrix(y_test_oversam, predict_xgb))\n",
        "\n",
        "print('\\nClassification report:')\n",
        "print(classification_report(y_test_oversam, predict_xgb))\n"
      ],
      "metadata": {
        "colab": {
          "base_uri": "https://localhost:8080/"
        },
        "id": "skkRzHPlpB_X",
        "outputId": "da881d18-44cc-4936-e68b-6a0ab563211a"
      },
      "execution_count": null,
      "outputs": [
        {
          "output_type": "stream",
          "name": "stdout",
          "text": [
            "XGBoost Model Accuracy :  84.35155412647374 %\n",
            "\n",
            "Confusion matrix :\n",
            "[[1772   94]\n",
            " [ 490 1376]]\n",
            "\n",
            "Classification report:\n",
            "              precision    recall  f1-score   support\n",
            "\n",
            "           0       0.78      0.95      0.86      1866\n",
            "           1       0.94      0.74      0.82      1866\n",
            "\n",
            "    accuracy                           0.84      3732\n",
            "   macro avg       0.86      0.84      0.84      3732\n",
            "weighted avg       0.86      0.84      0.84      3732\n",
            "\n"
          ]
        }
      ]
    },
    {
      "cell_type": "markdown",
      "source": [
        "Logistic Model Accuracy : 49.75 %\n",
        "\n",
        "DecisionTree Model Accuracy : 76.58 %\n",
        "\n",
        "Random Forest Model Accuracy : 75.45 %\n",
        "\n",
        "Support Vector Classifier Accuracy : 50.61 %\n",
        "\n",
        "XGBoost Model Accuracy : 84.35 %"
      ],
      "metadata": {
        "id": "tk8g77AT0qtf"
      }
    },
    {
      "cell_type": "markdown",
      "source": [
        "## **Conclusion**"
      ],
      "metadata": {
        "id": "23tlOV_JQAcm"
      }
    },
    {
      "cell_type": "markdown",
      "source": [
        "As we have seen that, XGBoost Model is giving highest accuracy of 84.35 %, hence we will use XGBoost Model for predicion"
      ],
      "metadata": {
        "id": "TTchuIIKQEIF"
      }
    },
    {
      "cell_type": "code",
      "source": [],
      "metadata": {
        "id": "ZTxndxhuWzk0"
      },
      "execution_count": null,
      "outputs": []
    }
  ]
}